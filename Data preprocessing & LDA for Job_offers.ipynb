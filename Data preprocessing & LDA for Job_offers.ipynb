{
 "cells": [
  {
   "cell_type": "code",
   "execution_count": 216,
   "metadata": {
    "collapsed": true
   },
   "outputs": [],
   "source": [
    "import re\n",
    "import csv\n",
    "import string\n",
    "import numpy as np\n",
    "import pandas as pd\n",
    "\n",
    "import gensim\n",
    "from gensim import corpora\n",
    "from gensim.utils import simple_preprocess\n",
    "from gensim.parsing.preprocessing import STOPWORDS\n",
    "from gensim.parsing.preprocessing import strip_multiple_whitespaces\n",
    "from gensim.parsing.preprocessing import strip_non_alphanum\n",
    "from gensim.parsing.preprocessing import strip_punctuation\n",
    "from gensim.parsing.preprocessing import strip_short\n",
    "from gensim.parsing.preprocessing import strip_tags\n",
    "from gensim.parsing.preprocessing import strip_numeric\n",
    "from gensim.parsing.preprocessing import remove_stopwords\n",
    "from nltk.stem import WordNetLemmatizer, SnowballStemmer\n",
    "from nltk.stem.porter import *\n",
    "import nltk\n",
    "#from nltk import PorterStemmer\n",
    "from stop_words import safe_get_stop_words\n",
    "from stop_words import get_stop_words\n",
    "stop_words = get_stop_words('english')\n",
    "\n",
    "import matplotlib.pyplot as plt\n",
    "%matplotlib inline\n",
    "from wordcloud import WordCloud\n",
    "#-------------------------------------\n",
    "\n",
    "#from nltk.corpus import brown\n",
    "#from sklearn.decomposition import LatentDirichletAllocation\n",
    "#from sklearn.feature_extraction.text import CountVectorizer\n",
    "#import pyLDAvis.sklearn\n",
    "# Generate Word Cloud\n",
    "\n",
    "#--------------------------\n",
    "#import nltk\n",
    "#nltk.download('wordnet')\n",
    "PorterStemmer().stem('complications')\n",
    "#from gensim import corpora\n",
    "stemmer = PorterStemmer()\n",
    "from nltk import everygrams\n",
    "from nltk import FreqDist"
   ]
  },
  {
   "cell_type": "code",
   "execution_count": 159,
   "metadata": {
    "collapsed": true
   },
   "outputs": [],
   "source": [
    "# Eliminate Duplicate Items by Product Category and Product Link \n",
    "#toclean = pd.read_csv(\"C:/Users/moh_e/Desktop/JobOffers_dominant_topic_Topics___.csv\", sep=',', encoding=\"ISO-8859-1\")\n",
    "#deduped = toclean.drop_duplicates(subset=['Jop_Link'], keep='first')\n",
    "#deduped.to_csv('C:/Users/moh_e/Desktop/JobOffers_dominant_topic_Topics__10k.csv', sep=',', encoding=\"ISO-8859-1\")"
   ]
  },
  {
   "cell_type": "markdown",
   "metadata": {},
   "source": [
    "# 1- Loading data"
   ]
  },
  {
   "cell_type": "code",
   "execution_count": 160,
   "metadata": {
    "scrolled": false
   },
   "outputs": [
    {
     "data": {
      "text/html": [
       "<div>\n",
       "<style>\n",
       "    .dataframe thead tr:only-child th {\n",
       "        text-align: right;\n",
       "    }\n",
       "\n",
       "    .dataframe thead th {\n",
       "        text-align: left;\n",
       "    }\n",
       "\n",
       "    .dataframe tbody tr th {\n",
       "        vertical-align: top;\n",
       "    }\n",
       "</style>\n",
       "<table border=\"1\" class=\"dataframe\">\n",
       "  <thead>\n",
       "    <tr style=\"text-align: right;\">\n",
       "      <th></th>\n",
       "      <th>Job_Title</th>\n",
       "      <th>Job_Skills</th>\n",
       "      <th>Job_Link</th>\n",
       "      <th>Job_Description</th>\n",
       "    </tr>\n",
       "  </thead>\n",
       "  <tbody>\n",
       "    <tr>\n",
       "      <th>0</th>\n",
       "      <td>Data Scientist (NiFi, DHF)</td>\n",
       "      <td>Bachelor's Degree , SQL , Time Management , No...</td>\n",
       "      <td>https://www.simplyhired.com/job/Tq4KqCrotc06Fp...</td>\n",
       "      <td>EducationBachelor's DegreeSkillsSQLTime Manage...</td>\n",
       "    </tr>\n",
       "    <tr>\n",
       "      <th>1</th>\n",
       "      <td>Data Scientist - Defense &amp; Intelligence</td>\n",
       "      <td>Bachelor's Degree , NoSQL , SQL , 401(k) , Had...</td>\n",
       "      <td>https://www.simplyhired.com/job/OF7HNEC0sGEgBA...</td>\n",
       "      <td>EducationBachelor's DegreeSkillsNoSQLSQL401(k)...</td>\n",
       "    </tr>\n",
       "    <tr>\n",
       "      <th>2</th>\n",
       "      <td>Fall 2019/Winter 2020 Applied Science Machine ...</td>\n",
       "      <td>Doctoral Degree , Master's Degree , Natural La...</td>\n",
       "      <td>https://www.simplyhired.com/job/WaFb8rbhCLxehi...</td>\n",
       "      <td>EducationDoctoral DegreeMaster's DegreeSkillsN...</td>\n",
       "    </tr>\n",
       "    <tr>\n",
       "      <th>3</th>\n",
       "      <td>Applied Scientist Fall/Winter 2019 Internship ...</td>\n",
       "      <td>Doctoral Degree , Master's Degree , Natural La...</td>\n",
       "      <td>https://www.simplyhired.com/job/BL2wIHWVfwAAgw...</td>\n",
       "      <td>EducationDoctoral DegreeMaster's DegreeSkillsN...</td>\n",
       "    </tr>\n",
       "    <tr>\n",
       "      <th>4</th>\n",
       "      <td>Data Scientist/Engineer (HDF, NiFi)</td>\n",
       "      <td>Bachelor's Degree , Master's Degree , Doctoral...</td>\n",
       "      <td>https://www.simplyhired.com/job/1H_ga33Kqka5Ot...</td>\n",
       "      <td>EducationBachelor's DegreeMaster's DegreeDocto...</td>\n",
       "    </tr>\n",
       "  </tbody>\n",
       "</table>\n",
       "</div>"
      ],
      "text/plain": [
       "                                           Job_Title  \\\n",
       "0                         Data Scientist (NiFi, DHF)   \n",
       "1            Data Scientist - Defense & Intelligence   \n",
       "2  Fall 2019/Winter 2020 Applied Science Machine ...   \n",
       "3  Applied Scientist Fall/Winter 2019 Internship ...   \n",
       "4                Data Scientist/Engineer (HDF, NiFi)   \n",
       "\n",
       "                                          Job_Skills  \\\n",
       "0  Bachelor's Degree , SQL , Time Management , No...   \n",
       "1  Bachelor's Degree , NoSQL , SQL , 401(k) , Had...   \n",
       "2  Doctoral Degree , Master's Degree , Natural La...   \n",
       "3  Doctoral Degree , Master's Degree , Natural La...   \n",
       "4  Bachelor's Degree , Master's Degree , Doctoral...   \n",
       "\n",
       "                                            Job_Link  \\\n",
       "0  https://www.simplyhired.com/job/Tq4KqCrotc06Fp...   \n",
       "1  https://www.simplyhired.com/job/OF7HNEC0sGEgBA...   \n",
       "2  https://www.simplyhired.com/job/WaFb8rbhCLxehi...   \n",
       "3  https://www.simplyhired.com/job/BL2wIHWVfwAAgw...   \n",
       "4  https://www.simplyhired.com/job/1H_ga33Kqka5Ot...   \n",
       "\n",
       "                                     Job_Description  \n",
       "0  EducationBachelor's DegreeSkillsSQLTime Manage...  \n",
       "1  EducationBachelor's DegreeSkillsNoSQLSQL401(k)...  \n",
       "2  EducationDoctoral DegreeMaster's DegreeSkillsN...  \n",
       "3  EducationDoctoral DegreeMaster's DegreeSkillsN...  \n",
       "4  EducationBachelor's DegreeMaster's DegreeDocto...  "
      ]
     },
     "execution_count": 160,
     "metadata": {},
     "output_type": "execute_result"
    }
   ],
   "source": [
    "data =pd.read_csv(\"C:/Users/moh_e/Desktop/Nurturing Data Talent_2/DB_10k____.csv\",sep=',',encoding = \"ISO-8859-1\")\n",
    "data.head()"
   ]
  },
  {
   "cell_type": "code",
   "execution_count": 161,
   "metadata": {},
   "outputs": [
    {
     "name": "stdout",
     "output_type": "stream",
     "text": [
      "<class 'pandas.core.frame.DataFrame'>\n",
      "RangeIndex: 10690 entries, 0 to 10689\n",
      "Data columns (total 4 columns):\n",
      "Job_Title          10690 non-null object\n",
      "Job_Skills         10314 non-null object\n",
      "Job_Link           10690 non-null object\n",
      "Job_Description    10690 non-null object\n",
      "dtypes: object(4)\n",
      "memory usage: 334.1+ KB\n"
     ]
    }
   ],
   "source": [
    "data.info()"
   ]
  },
  {
   "cell_type": "code",
   "execution_count": 162,
   "metadata": {
    "scrolled": true
   },
   "outputs": [
    {
     "data": {
      "text/plain": [
       "\"EducationBachelor's DegreeSkillsNoSQLSQLGitAWSSparkBenefitsFood ProvidedPaid Time OffHealth InsuranceDisability InsuranceGym MembershipElder Research Inc. is a recognized leader in predictive analytics and data science. We pride ourselves in our ability to find creative, cutting edge solutions to real-world problems. We are looking for innovative and inquisitive self-starters who enjoy translating complex models into actionable solutions that deliver real value for our clients.\\r\\r\\r\\n\\r\\r\\r\\nJob Description\\r\\r\\r\\n\\r\\r\\r\\nAs a Software Engineer in the Defense & Intelligence Business Unit, you will join a functional team of accomplished Data Scientists and Software Engineers that deliver data science solutions to address the toughest national security challenges. You will work closely with data scientists, business consultants, other software engineers, and the system users to create and deploy applications that help the customer make actionable, data-driven decisions. Candidates should have the ability and the willingness to tailor applications to a clientâ\\x80\\x99s specific business goals using an iterative methodology.\\r\\r\\r\\n\\r\\r\\r\\nRequired Qualifications\\r\\r\\r\\n\\r\\r\\r\\nBasic Qualifications:\\r\\r\\r\\n2+ years of software development experience and a BA/BS degree in Computer Science or related fieldSignificant experience and expertise programming in Java, Python, Scala, C# or JavaScriptStrong English-speaking and writing skillsAbility to communicate complex concepts in non-technical languageOccasional travel is required.\\r\\r\\r\\nPreferred Qualifications:\\r\\r\\r\\n5+ years of experience in a software role or graduate degree in related fieldExperience working with some of the following technologies: Maven, Git, Eclipse, XSD, Jenkins, sbt, D3, Angular, CSS, IntelliJ, Linux, Docker, AWS/C2S, Solr, NoSQL databases (MongoDB, DynamoDB, Redis, HBase, Cassandra, Accumulo, Neo4j, etc.), Hadoop, Spark, PigExperience providing direct support to analystsFamiliarity with data science tools and software: R, IBM SPSS Modeler, SAS, KNIME, RapidMiner, StatisticaFamiliarity with unsupervised, semi-supervised, and supervised learning algorithms and technologiesFamiliarity with relational databases, Oracle, SQL, and ETL toolsSecurity+ certifiedDomain expertise: counterintelligence, biometrics, intelligence data sources (HUMINT, SIGINT, IMINT, and OSINT)Experience with data platforms and query tools used by the Intelligence Community such as DCGS-A, M3, Next Generation Trident (NGT), QueryTree, Source, BI2R, CIDNE, WEAT, Harmony, etc.\\r\\r\\r\\nIf you meet these requirements and have interest in these domains, we would like to hear from you. You can learn more about us and apply online at our website www.elderresearch.com.\\r\\r\\r\\n\\r\\r\\r\\nAbout Elder Research, Inc.\\r\\r\\r\\n\\r\\r\\r\\nHeadquartered in Charlottesville, VA with offices in Arlington, VA, Baltimore, MD, and Raleigh, NC, Elder Research is a fast growing consulting firm specializing in predictive analytics. Elder Research has been in the data mining business over 20 years providing analytic solutions to hundreds of companies and organizations across numerous industries. At Elder Research, youâ\\x80\\x99ll be part of a fun, friendly community. In keeping with our entrepreneurial spirit, we want candidates that are self-motivated with an innate curiosity and strong team work ethic. We work hard to provide the best value to our clients and allow each person to contribute their ideas and put their skills to use immediately.\\r\\r\\r\\n\\r\\r\\r\\nAchieving success on defense, intelligence and security projects requires a data science team with broad experience, critical thinking, a proven ability to solve complex problems, and the ability to effectively communicate results. Our scientists conduct analysis in a collaborative environment that frequently brings together the expertise of decision-makers, analysts, agents, investigators, and even behavioral scientists. Our team relies on well-trained technical personnel who have experience with tools, algorithms, best practices, and custom software development to navigate the frontier of unsolved problems we typically encounter. Our team enjoys great variety in the type of work they do and exposure to a wide range of analytic techniques and tools.\\r\\r\\r\\n\\r\\r\\r\\nElder Research is held privately by Dr. John Elder â\\x80\\x93 our founder and data mining pioneer â\\x80\\x93 and by our employees through our Employee Stock Ownership Plan (ESOP). We offer competitive salary and benefits, including paid time off, federal holidays, ESOP, 401(k) retirement, health, dental, life and disability insurance. Some fun perks include free snacks and drinks, gym membership, sit/stand desks and your birthday off. We are committed to a healthy work/life balance and we continually invest in your professional development. Friday Tech Talks with catered lunch are a hallmark of Elder Researchâ\\x80\\x99s culture. If this sounds interesting to you, we would love to hear from you.\\r\\r\\r\\n\\r\\r\\r\\nElder Research, Inc. is an Equal Opportunity Employer. All qualified applicants will receive consideration for employment without regard to race, color, religion, sex, sexual orientation, gender identity, national origin, or protected veteran status and will not be discriminated against on the basis of disability.\""
      ]
     },
     "execution_count": 162,
     "metadata": {},
     "output_type": "execute_result"
    }
   ],
   "source": [
    "data[\"Job_Description\"][10]"
   ]
  },
  {
   "cell_type": "markdown",
   "metadata": {},
   "source": [
    "# 2- DATA PREPROCESSING "
   ]
  },
  {
   "cell_type": "code",
   "execution_count": 163,
   "metadata": {
    "collapsed": true
   },
   "outputs": [],
   "source": [
    "def CountFreqWords(x):\n",
    "    mapping =dict.fromkeys(map(ord,string.punctuation))\n",
    "    words = {}\n",
    "    for m in x:\n",
    "        try:\n",
    "            sent=m.split(' ')\n",
    "        except:\n",
    "            pass\n",
    "        for word in sent:\n",
    "            word=word.strip()\n",
    "            word=word.lower()\n",
    "            word=word.translate(mapping)\n",
    "            if word in stop_words:\n",
    "                continue\n",
    "            if len(word)<3:         \n",
    "                continue\n",
    "            if word in words:\n",
    "                words[word]+=1\n",
    "            else:\n",
    "                words[word]=1\n",
    "    print('done')\n",
    "    return words"
   ]
  },
  {
   "cell_type": "code",
   "execution_count": 164,
   "metadata": {
    "scrolled": true
   },
   "outputs": [
    {
     "name": "stdout",
     "output_type": "stream",
     "text": [
      "done\n"
     ]
    },
    {
     "data": {
      "text/html": [
       "<div>\n",
       "<style>\n",
       "    .dataframe thead tr:only-child th {\n",
       "        text-align: right;\n",
       "    }\n",
       "\n",
       "    .dataframe thead th {\n",
       "        text-align: left;\n",
       "    }\n",
       "\n",
       "    .dataframe tbody tr th {\n",
       "        vertical-align: top;\n",
       "    }\n",
       "</style>\n",
       "<table border=\"1\" class=\"dataframe\">\n",
       "  <thead>\n",
       "    <tr style=\"text-align: right;\">\n",
       "      <th></th>\n",
       "      <th>word</th>\n",
       "      <th>count</th>\n",
       "    </tr>\n",
       "  </thead>\n",
       "  <tbody>\n",
       "    <tr>\n",
       "      <th>25</th>\n",
       "      <td>data</td>\n",
       "      <td>78294</td>\n",
       "    </tr>\n",
       "    <tr>\n",
       "      <th>27</th>\n",
       "      <td>experience</td>\n",
       "      <td>36767</td>\n",
       "    </tr>\n",
       "    <tr>\n",
       "      <th>115</th>\n",
       "      <td>business</td>\n",
       "      <td>32247</td>\n",
       "    </tr>\n",
       "    <tr>\n",
       "      <th>308</th>\n",
       "      <td>will</td>\n",
       "      <td>26462</td>\n",
       "    </tr>\n",
       "    <tr>\n",
       "      <th>208</th>\n",
       "      <td>work</td>\n",
       "      <td>22247</td>\n",
       "    </tr>\n",
       "    <tr>\n",
       "      <th>211</th>\n",
       "      <td>team</td>\n",
       "      <td>20970</td>\n",
       "    </tr>\n",
       "    <tr>\n",
       "      <th>9</th>\n",
       "      <td>development</td>\n",
       "      <td>18551</td>\n",
       "    </tr>\n",
       "    <tr>\n",
       "      <th>145</th>\n",
       "      <td>years</td>\n",
       "      <td>15226</td>\n",
       "    </tr>\n",
       "    <tr>\n",
       "      <th>59</th>\n",
       "      <td>management</td>\n",
       "      <td>14363</td>\n",
       "    </tr>\n",
       "    <tr>\n",
       "      <th>158</th>\n",
       "      <td>skills</td>\n",
       "      <td>14310</td>\n",
       "    </tr>\n",
       "    <tr>\n",
       "      <th>127</th>\n",
       "      <td>science</td>\n",
       "      <td>13373</td>\n",
       "    </tr>\n",
       "    <tr>\n",
       "      <th>49</th>\n",
       "      <td>solutions</td>\n",
       "      <td>13364</td>\n",
       "    </tr>\n",
       "    <tr>\n",
       "      <th>266</th>\n",
       "      <td>technical</td>\n",
       "      <td>13170</td>\n",
       "    </tr>\n",
       "    <tr>\n",
       "      <th>29</th>\n",
       "      <td>analytics</td>\n",
       "      <td>13161</td>\n",
       "    </tr>\n",
       "    <tr>\n",
       "      <th>228</th>\n",
       "      <td>support</td>\n",
       "      <td>12990</td>\n",
       "    </tr>\n",
       "    <tr>\n",
       "      <th>572</th>\n",
       "      <td>including</td>\n",
       "      <td>12443</td>\n",
       "    </tr>\n",
       "    <tr>\n",
       "      <th>680</th>\n",
       "      <td>systems</td>\n",
       "      <td>12361</td>\n",
       "    </tr>\n",
       "    <tr>\n",
       "      <th>296</th>\n",
       "      <td>software</td>\n",
       "      <td>12214</td>\n",
       "    </tr>\n",
       "    <tr>\n",
       "      <th>99</th>\n",
       "      <td>analysis</td>\n",
       "      <td>12094</td>\n",
       "    </tr>\n",
       "    <tr>\n",
       "      <th>392</th>\n",
       "      <td>learning</td>\n",
       "      <td>12037</td>\n",
       "    </tr>\n",
       "    <tr>\n",
       "      <th>126</th>\n",
       "      <td>new</td>\n",
       "      <td>11745</td>\n",
       "    </tr>\n",
       "    <tr>\n",
       "      <th>695</th>\n",
       "      <td>design</td>\n",
       "      <td>11689</td>\n",
       "    </tr>\n",
       "    <tr>\n",
       "      <th>201</th>\n",
       "      <td>technology</td>\n",
       "      <td>11500</td>\n",
       "    </tr>\n",
       "    <tr>\n",
       "      <th>102</th>\n",
       "      <td>information</td>\n",
       "      <td>11214</td>\n",
       "    </tr>\n",
       "    <tr>\n",
       "      <th>64</th>\n",
       "      <td>working</td>\n",
       "      <td>11017</td>\n",
       "    </tr>\n",
       "  </tbody>\n",
       "</table>\n",
       "</div>"
      ],
      "text/plain": [
       "            word  count\n",
       "25          data  78294\n",
       "27    experience  36767\n",
       "115     business  32247\n",
       "308         will  26462\n",
       "208         work  22247\n",
       "211         team  20970\n",
       "9    development  18551\n",
       "145        years  15226\n",
       "59    management  14363\n",
       "158       skills  14310\n",
       "127      science  13373\n",
       "49     solutions  13364\n",
       "266    technical  13170\n",
       "29     analytics  13161\n",
       "228      support  12990\n",
       "572    including  12443\n",
       "680      systems  12361\n",
       "296     software  12214\n",
       "99      analysis  12094\n",
       "392     learning  12037\n",
       "126          new  11745\n",
       "695       design  11689\n",
       "201   technology  11500\n",
       "102  information  11214\n",
       "64       working  11017"
      ]
     },
     "execution_count": 164,
     "metadata": {},
     "output_type": "execute_result"
    }
   ],
   "source": [
    "words=CountFreqWords(data[\"Job_Description\"])\n",
    "df_words = pd.DataFrame(list(words.items()),columns=['word','count'])\n",
    "TopFreqWords=df_words.nlargest(25, 'count')  # to show 25 max count words\n",
    "TopFreqWords"
   ]
  },
  {
   "cell_type": "markdown",
   "metadata": {},
   "source": [
    "### - List of words not related to our study"
   ]
  },
  {
   "cell_type": "code",
   "execution_count": 165,
   "metadata": {},
   "outputs": [
    {
     "data": {
      "text/html": [
       "<div>\n",
       "<style>\n",
       "    .dataframe thead tr:only-child th {\n",
       "        text-align: right;\n",
       "    }\n",
       "\n",
       "    .dataframe thead th {\n",
       "        text-align: left;\n",
       "    }\n",
       "\n",
       "    .dataframe tbody tr th {\n",
       "        vertical-align: top;\n",
       "    }\n",
       "</style>\n",
       "<table border=\"1\" class=\"dataframe\">\n",
       "  <thead>\n",
       "    <tr style=\"text-align: right;\">\n",
       "      <th></th>\n",
       "      <th>Unnamed: 0</th>\n",
       "      <th>word</th>\n",
       "      <th>count</th>\n",
       "      <th>dl</th>\n",
       "    </tr>\n",
       "  </thead>\n",
       "  <tbody>\n",
       "    <tr>\n",
       "      <th>13</th>\n",
       "      <td>150</td>\n",
       "      <td>tools</td>\n",
       "      <td>4608</td>\n",
       "      <td>1.0</td>\n",
       "    </tr>\n",
       "    <tr>\n",
       "      <th>19</th>\n",
       "      <td>45</td>\n",
       "      <td>services</td>\n",
       "      <td>3878</td>\n",
       "      <td>1.0</td>\n",
       "    </tr>\n",
       "    <tr>\n",
       "      <th>26</th>\n",
       "      <td>49</td>\n",
       "      <td>communication</td>\n",
       "      <td>2704</td>\n",
       "      <td>1.0</td>\n",
       "    </tr>\n",
       "    <tr>\n",
       "      <th>35</th>\n",
       "      <td>184</td>\n",
       "      <td>field</td>\n",
       "      <td>2453</td>\n",
       "      <td>1.0</td>\n",
       "    </tr>\n",
       "    <tr>\n",
       "      <th>36</th>\n",
       "      <td>53</td>\n",
       "      <td>environment</td>\n",
       "      <td>2427</td>\n",
       "      <td>1.0</td>\n",
       "    </tr>\n",
       "    <tr>\n",
       "      <th>41</th>\n",
       "      <td>134</td>\n",
       "      <td>quality</td>\n",
       "      <td>2281</td>\n",
       "      <td>1.0</td>\n",
       "    </tr>\n",
       "    <tr>\n",
       "      <th>45</th>\n",
       "      <td>202</td>\n",
       "      <td>performance</td>\n",
       "      <td>2230</td>\n",
       "      <td>1.0</td>\n",
       "    </tr>\n",
       "    <tr>\n",
       "      <th>46</th>\n",
       "      <td>80</td>\n",
       "      <td>complex</td>\n",
       "      <td>2118</td>\n",
       "      <td>1.0</td>\n",
       "    </tr>\n",
       "    <tr>\n",
       "      <th>50</th>\n",
       "      <td>46</td>\n",
       "      <td>architecture</td>\n",
       "      <td>1981</td>\n",
       "      <td>1.0</td>\n",
       "    </tr>\n",
       "  </tbody>\n",
       "</table>\n",
       "</div>"
      ],
      "text/plain": [
       "    Unnamed: 0           word  count   dl\n",
       "13         150          tools   4608  1.0\n",
       "19          45       services   3878  1.0\n",
       "26          49  communication   2704  1.0\n",
       "35         184          field   2453  1.0\n",
       "36          53    environment   2427  1.0\n",
       "41         134        quality   2281  1.0\n",
       "45         202    performance   2230  1.0\n",
       "46          80        complex   2118  1.0\n",
       "50          46   architecture   1981  1.0"
      ]
     },
     "execution_count": 165,
     "metadata": {},
     "output_type": "execute_result"
    }
   ],
   "source": [
    "# List of stop words to be deleted\n",
    "df_words =pd.read_csv(\"C:/Users/moh_e/Desktop/df_words2___.csv\",sep=',',encoding = \"ISO-8859-1\")\n",
    "df_StopWords=df_words[df_words[\"dl\"]==1]\n",
    "df_StopWords[1:10]"
   ]
  },
  {
   "cell_type": "code",
   "execution_count": 166,
   "metadata": {
    "collapsed": true
   },
   "outputs": [],
   "source": [
    "# add new stop words\n",
    "stopwords_=df_StopWords[\"word\"].values.tolist()"
   ]
  },
  {
   "cell_type": "markdown",
   "metadata": {},
   "source": [
    "### - Creat a list of jobs not related to our study, to be deleted "
   ]
  },
  {
   "cell_type": "code",
   "execution_count": 167,
   "metadata": {
    "collapsed": true
   },
   "outputs": [],
   "source": [
    "keywordsList=[\"big data\",\"data science\",\"business intelligence\",\"data mining\",\"machine learning\",\"analytics\",\"analyst\",\"data analysis\",\n",
    "              \"scientist\",\"business\",\"data engineer\",\"marketing\",\"market\",\"java\",\"python\",\"database engineer\",\"sql\",\"data entry\",\" data modeling\",\n",
    "              \"bi developer\",\"statistical software\",\"hadoop\",\"natural language processing\",\"nlp\",\"finance\",\"big data engineer\",\n",
    "              \"data scientist\",\"business intelligence analyst\",\"analyzing\"]"
   ]
  },
  {
   "cell_type": "code",
   "execution_count": 168,
   "metadata": {
    "collapsed": true
   },
   "outputs": [],
   "source": [
    "def SearchBykeywords(text_):\n",
    "    Results_list = []\n",
    "    s =text_\n",
    "    for j in keywordsList:\n",
    "        SearchResult=re.findall(j,s)\n",
    "        if SearchResult!=[] :\n",
    "            Results_list.append(SearchResult[0])\n",
    "        else:\n",
    "            Results_list.append(\"\")        \n",
    "    ResultText=\"\"\n",
    "    for i in Results_list:\n",
    "        ResultText=ResultText +\" \"+i\n",
    "        ResultText=strip_multiple_whitespaces(ResultText)\n",
    "    return ResultText"
   ]
  },
  {
   "cell_type": "code",
   "execution_count": 169,
   "metadata": {
    "collapsed": true
   },
   "outputs": [],
   "source": [
    "# Remove the added stopwords\n",
    "def remove_stopwords(txt):\n",
    "    query = txt\n",
    "    querywords = query.split()\n",
    "    resultwords  = [word for word in querywords if word.lower() not in stopwords_]\n",
    "    result = ' '.join(resultwords)\n",
    "    return result"
   ]
  },
  {
   "cell_type": "code",
   "execution_count": 170,
   "metadata": {
    "collapsed": true
   },
   "outputs": [],
   "source": [
    "def lemmatize_stemming(text):\n",
    "    return stemmer.stem(WordNetLemmatizer().lemmatize(text, pos='v'))\n",
    "\n",
    "def preprocess(text):\n",
    "    result = []\n",
    "    for token in gensim.utils.simple_preprocess(text):\n",
    "        if token not in gensim.parsing.preprocessing.STOPWORDS and len(token) > 2:\n",
    "            result.append(lemmatize_stemming(token))\n",
    "    return result"
   ]
  },
  {
   "cell_type": "code",
   "execution_count": 197,
   "metadata": {
    "collapsed": true
   },
   "outputs": [],
   "source": [
    "def  Stop_N_grams(x,minimum_n,max_n):    \n",
    "    MergedText=\"\"\n",
    "    for i in x:\n",
    "        MergedText=MergedText+\" \"+i\n",
    "    corpus = MergedText.split()\n",
    "    fd = FreqDist(everygrams(corpus, minimum_n, max_n))\n",
    "    StopPhrase=pd.DataFrame(list(fd.items()), columns = [\"phrase\",\"count\"])\n",
    "    return StopPhrase"
   ]
  },
  {
   "cell_type": "code",
   "execution_count": 172,
   "metadata": {
    "collapsed": true
   },
   "outputs": [],
   "source": [
    "def RemoveStopPhrase(text,NgsList):\n",
    "    UpdatedText=text\n",
    "    for sentence in NgsList:\n",
    "        x=UpdatedText.replace(sentence, ' ')\n",
    "        UpdatedText=x\n",
    "    return UpdatedText"
   ]
  },
  {
   "cell_type": "code",
   "execution_count": 173,
   "metadata": {
    "collapsed": true
   },
   "outputs": [],
   "source": [
    "Search_data=data[\"Job_Description\"].astype(str).apply(lambda x: x.lower())          # Convert text to lowercase\n",
    "Search_data=Search_data.apply(SearchBykeywords)\n",
    "data[\"Search_keywords\"]=Search_data"
   ]
  },
  {
   "cell_type": "code",
   "execution_count": 174,
   "metadata": {},
   "outputs": [
    {
     "name": "stdout",
     "output_type": "stream",
     "text": [
      "<class 'pandas.core.frame.DataFrame'>\n",
      "Int64Index: 259 entries, 617 to 10683\n",
      "Data columns (total 5 columns):\n",
      "Job_Title          259 non-null object\n",
      "Job_Skills         248 non-null object\n",
      "Job_Link           259 non-null object\n",
      "Job_Description    259 non-null object\n",
      "Search_keywords    259 non-null object\n",
      "dtypes: object(5)\n",
      "memory usage: 12.1+ KB\n"
     ]
    }
   ],
   "source": [
    "data[data[\"Search_keywords\"]==' '].info()"
   ]
  },
  {
   "cell_type": "code",
   "execution_count": 175,
   "metadata": {
    "collapsed": true
   },
   "outputs": [],
   "source": [
    "data=data[data[\"Search_keywords\"]!=' ']\n",
    "#data.info()"
   ]
  },
  {
   "cell_type": "code",
   "execution_count": 176,
   "metadata": {
    "collapsed": true
   },
   "outputs": [],
   "source": [
    "data[\"Job_Description\"]=data[\"Job_Description\"].astype(str).apply(lambda x: x.lower())\n",
    "data[\"Job_Description\"]=data[\"Job_Description\"].apply(strip_multiple_whitespaces) \n",
    "data[\"Job_Description\"]=data[\"Job_Description\"].apply(lambda x: x.strip())\n",
    "data[\"Job_Description\"]=data[\"Job_Description\"].apply(lambda x: re.sub(r\"\\d+\", \"\", x))"
   ]
  },
  {
   "cell_type": "code",
   "execution_count": 177,
   "metadata": {
    "scrolled": true
   },
   "outputs": [
    {
     "data": {
      "text/plain": [
       "\"educationbachelor's degreeskillsnosqlsqlgitawssparkbenefitsfood providedpaid time offhealth insurancedisability insurancegym membershipelder research inc. is a recognized leader in predictive analytics and data science. we pride ourselves in our ability to find creative, cutting edge solutions to real-world problems. we are looking for innovative and inquisitive self-starters who enjoy translating complex models into actionable solutions that deliver real value for our clients. job description as a software engineer in the defense & intelligence business unit, you will join a functional team of accomplished data scientists and software engineers that deliver data science solutions to address the toughest national security challenges. you will work closely with data scientists, business consultants, other software engineers, and the system users to create and deploy applications that help the customer make actionable, data-driven decisions. candidates should have the ability and the willingness to tailor applications to a clientâ\\x80\\x99s specific business goals using an iterative methodology. required qualifications basic qualifications: + years of software development experience and a ba/bs degree in computer science or related fieldsignificant experience and expertise programming in java, python, scala, c# or javascriptstrong english-speaking and writing skillsability to communicate complex concepts in non-technical languageoccasional travel is required. preferred qualifications: + years of experience in a software role or graduate degree in related fieldexperience working with some of the following technologies: maven, git, eclipse, xsd, jenkins, sbt, d, angular, css, intellij, linux, docker, aws/cs, solr, nosql databases (mongodb, dynamodb, redis, hbase, cassandra, accumulo, neoj, etc.), hadoop, spark, pigexperience providing direct support to analystsfamiliarity with data science tools and software: r, ibm spss modeler, sas, knime, rapidminer, statisticafamiliarity with unsupervised, semi-supervised, and supervised learning algorithms and technologiesfamiliarity with relational databases, oracle, sql, and etl toolssecurity+ certifieddomain expertise: counterintelligence, biometrics, intelligence data sources (humint, sigint, imint, and osint)experience with data platforms and query tools used by the intelligence community such as dcgs-a, m, next generation trident (ngt), querytree, source, bir, cidne, weat, harmony, etc. if you meet these requirements and have interest in these domains, we would like to hear from you. you can learn more about us and apply online at our website www.elderresearch.com. about elder research, inc. headquartered in charlottesville, va with offices in arlington, va, baltimore, md, and raleigh, nc, elder research is a fast growing consulting firm specializing in predictive analytics. elder research has been in the data mining business over  years providing analytic solutions to hundreds of companies and organizations across numerous industries. at elder research, youâ\\x80\\x99ll be part of a fun, friendly community. in keeping with our entrepreneurial spirit, we want candidates that are self-motivated with an innate curiosity and strong team work ethic. we work hard to provide the best value to our clients and allow each person to contribute their ideas and put their skills to use immediately. achieving success on defense, intelligence and security projects requires a data science team with broad experience, critical thinking, a proven ability to solve complex problems, and the ability to effectively communicate results. our scientists conduct analysis in a collaborative environment that frequently brings together the expertise of decision-makers, analysts, agents, investigators, and even behavioral scientists. our team relies on well-trained technical personnel who have experience with tools, algorithms, best practices, and custom software development to navigate the frontier of unsolved problems we typically encounter. our team enjoys great variety in the type of work they do and exposure to a wide range of analytic techniques and tools. elder research is held privately by dr. john elder â\\x80\\x93 our founder and data mining pioneer â\\x80\\x93 and by our employees through our employee stock ownership plan (esop). we offer competitive salary and benefits, including paid time off, federal holidays, esop, (k) retirement, health, dental, life and disability insurance. some fun perks include free snacks and drinks, gym membership, sit/stand desks and your birthday off. we are committed to a healthy work/life balance and we continually invest in your professional development. friday tech talks with catered lunch are a hallmark of elder researchâ\\x80\\x99s culture. if this sounds interesting to you, we would love to hear from you. elder research, inc. is an equal opportunity employer. all qualified applicants will receive consideration for employment without regard to race, color, religion, sex, sexual orientation, gender identity, national origin, or protected veteran status and will not be discriminated against on the basis of disability.\""
      ]
     },
     "execution_count": 177,
     "metadata": {},
     "output_type": "execute_result"
    }
   ],
   "source": [
    "data[\"Job_Description\"][10]"
   ]
  },
  {
   "cell_type": "code",
   "execution_count": null,
   "metadata": {},
   "outputs": [],
   "source": [
    "MergedData=\"\"\n",
    "for i in data[\"Job_Description\"]:\n",
    "    MergedData=MergedData+\" \"+i\n",
    "SentencesList = nltk.tokenize.sent_tokenize(MergedData)\n",
    "SentencesList"
   ]
  },
  {
   "cell_type": "code",
   "execution_count": 179,
   "metadata": {
    "collapsed": true
   },
   "outputs": [],
   "source": [
    "SentList=[]\n",
    "FreqList=[]\n",
    "x_list=SentencesList\n",
    "for k in SentencesList:\n",
    "    i=0\n",
    "    if k!=\" \":\n",
    "        for j in x_list:\n",
    "            if j==k :\n",
    "                i=i+1\n",
    "        SentList.append(k)\n",
    "        FreqList.append(i)\n",
    "dataFreq = {'phrase':SentList,'count':FreqList}\n",
    "FreqDf=pd.DataFrame(dataFreq)"
   ]
  },
  {
   "cell_type": "code",
   "execution_count": null,
   "metadata": {
    "scrolled": true
   },
   "outputs": [],
   "source": [
    "DuplicateSentencesDf = FreqDf[FreqDf['count'] >= 5].sort_values(by='count', ascending=False)\n",
    "DuplicateSentencesDf = DuplicateSentencesDf[DuplicateSentencesDf['phrase'] != \".\"]\n",
    "DuplicateSentencesDf = DuplicateSentencesDf[DuplicateSentencesDf['phrase'] != \"?\"]\n",
    "DuplicateSentencesDf"
   ]
  },
  {
   "cell_type": "code",
   "execution_count": 181,
   "metadata": {
    "collapsed": true
   },
   "outputs": [],
   "source": [
    "#Ngrams_df.to_csv('C:/Users/moh_e/Desktop/dfNgrams_df_.csv') "
   ]
  },
  {
   "cell_type": "code",
   "execution_count": 182,
   "metadata": {},
   "outputs": [
    {
     "name": "stdout",
     "output_type": "stream",
     "text": [
      "3330\n"
     ]
    }
   ],
   "source": [
    "word_data = DuplicateSentencesDf[\"phrase\"]\n",
    "nltk_tokens = word_data\n",
    "ordered_tokens = set()\n",
    "DupliSentsList = []\n",
    "for word in nltk_tokens:\n",
    "    if word not in ordered_tokens:\n",
    "        ordered_tokens.add(word)\n",
    "        DupliSentsList.append(word)\n",
    "        \n",
    "print(len(DupliSentsList))   "
   ]
  },
  {
   "cell_type": "code",
   "execution_count": 195,
   "metadata": {
    "collapsed": true
   },
   "outputs": [],
   "source": [
    "def UpdateText(Texts,StopPhrase):\n",
    "    FullTexts=list(Texts)\n",
    "    for i in range(len(FullTexts)):\n",
    "        FullTexts[i]=RemoveStopPhrase(FullTexts[i],StopPhrase)\n",
    "        \n",
    "    return FullTexts"
   ]
  },
  {
   "cell_type": "code",
   "execution_count": 113,
   "metadata": {
    "collapsed": true,
    "scrolled": true
   },
   "outputs": [],
   "source": [
    "data[\"Job_Description\"]=UpdateText(data[\"Job_Description\"],DupliSentsList) "
   ]
  },
  {
   "cell_type": "code",
   "execution_count": 115,
   "metadata": {
    "collapsed": true
   },
   "outputs": [],
   "source": [
    "#data.to_csv('C:/Users/moh_e/Desktop/dfdataafterNgrams_df_.csv') "
   ]
  },
  {
   "cell_type": "code",
   "execution_count": 187,
   "metadata": {
    "scrolled": true
   },
   "outputs": [
    {
     "data": {
      "text/plain": [
       "'educationbachelor degreeskillsnosqlsqlgitawssparkbenefitsfood providedpaid time offhealth insurancedisability insurancegym membershipelder research inc recognized leader predictive analytics and data science job description software engineer the defense intelligence business unit you will join functional team accomplished data scientists and software engineers that deliver data science solutions address the toughest national security challenges you will work closely with data scientists business consultants other software engineers and the system users create and deploy applications that help the customer make actionable data driven decisions candidates should have the ability and the willingness tailor applications clientâ specific business goals using iterative methodology required qualifications basic qualifications years software development experience and degree computer science related fieldsignificant experience and expertise programming java python scala javascriptstrong english speaking and writing skillsability communicate complex concepts non technical languageoccasional travel preferred qualifications years experience software role graduate degree related fieldexperience working with some the following technologies maven git eclipse xsd jenkins sbt angular css intellij linux docker aws solr nosql databases mongodb dynamodb redis hbase cassandra accumulo neoj etc hadoop spark pigexperience providing direct support analystsfamiliarity with data science tools and software ibm spss modeler sas knime rapidminer statisticafamiliarity with unsupervised semi supervised and supervised learning algorithms and technologiesfamiliarity with relational databases oracle sql and etl toolssecurity certifieddomain expertise counterintelligence biometrics intelligence data sources humint sigint imint and osint experience with data platforms and query tools used the intelligence community such dcgs next generation trident ngt querytree source bir cidne weat harmony etc elder research held privately john elder our founder and data mining pioneer and our employees through our employee stock ownership plan esop'"
      ]
     },
     "execution_count": 187,
     "metadata": {},
     "output_type": "execute_result"
    }
   ],
   "source": [
    "cleaned_data=data[\"Job_Description\"].astype(str).apply(lambda x: x.lower())                      # Convert text to lowercase\n",
    "cleaned_data=cleaned_data.apply(strip_non_alphanum)                         # Remove strip_non_alphanum \n",
    "cleaned_data=cleaned_data.apply(lambda x: re.sub(r\"\\d+\", \"\", x))           # Remove numbers \n",
    "cleaned_data=cleaned_data.apply(strip_multiple_whitespaces)                                      # Remove whitespaces\n",
    "cleaned_data=cleaned_data.apply(strip_punctuation)                          # Remove punctuation   \n",
    "cleaned_data=cleaned_data.apply(lambda x: strip_short(x,minsize=3))         # Remove short words\n",
    "cleaned_data=cleaned_data.apply(strip_tags)                                 # Remove tags\n",
    "data[\"Job_Description\"]=cleaned_data\n",
    "data[\"Job_Description\"][10]"
   ]
  },
  {
   "cell_type": "code",
   "execution_count": 188,
   "metadata": {},
   "outputs": [
    {
     "data": {
      "text/plain": [
       "'inc leader predictive analytics and data science software the intelligence business you team data scientists and software that data science solutions the security you with data scientists business other software and the and that the customer data decisions should the and the business methodology software development and computer science and expertise programming java python and software with some the css aws nosql databases mongodb hadoop spark with data science and software spss sas with and learning algorithms and with databases oracle sql and etl expertise intelligence data and with data and the intelligence such our and data and our through our plan'"
      ]
     },
     "execution_count": 188,
     "metadata": {},
     "output_type": "execute_result"
    }
   ],
   "source": [
    "data[\"Job_Description\"]=data[\"Job_Description\"].apply(remove_stopwords)                        # Remove the added stopwords\n",
    "data[\"Job_Description\"][10]"
   ]
  },
  {
   "cell_type": "code",
   "execution_count": 118,
   "metadata": {
    "collapsed": true
   },
   "outputs": [],
   "source": [
    "# List of words to be deleted\n",
    "#df_words =pd.read_csv(\"C:/Users/moh_e/Desktop/df_words3___.csv\",sep=',',encoding = \"ISO-8859-1\")\n",
    "#df_remove_words=df_words[df_words[\"dl\"]==1]\n",
    "#stopwords_=df_remove_words[\"word\"].values.tolist()\n",
    "\n",
    "\n",
    "#cleaned_data=data[\"Job_Description\"].apply(remove_stopwords)                        # Remove the added stopwords\n",
    "#data[\"Job_Description\"]=cleaned_data"
   ]
  },
  {
   "cell_type": "code",
   "execution_count": 201,
   "metadata": {},
   "outputs": [
    {
     "name": "stdout",
     "output_type": "stream",
     "text": [
      "(20, 50, 5) \n",
      " 48895\n",
      "(15, 40, 10) \n",
      " 59\n",
      "(10, 35, 10) \n",
      " 332\n",
      "(10, 30, 10) \n",
      " 31\n",
      "(10, 30, 8) \n",
      " 992\n",
      "(10, 30, 5) \n",
      " 6108\n",
      "(8, 30, 10) \n",
      " 178\n"
     ]
    }
   ],
   "source": [
    "mn_n=[20,15,10,10,10,10,8]\n",
    "mx_n=[50,40,35,30,30,30,30]\n",
    "rpt_n=[5,10,10,10,8,5,10]\n",
    "UpdatedTexts=data[\"Job_Description\"]\n",
    "for i in zip(mn_n, mx_n, rpt_n):\n",
    "    NGRMs_df= Stop_N_grams(UpdatedTexts,i[0],i[1])\n",
    "    NGRMs_df = NGRMs_df[NGRMs_df['count'] >= i[2]].sort_values(by='count', ascending=False)\n",
    "    NGRMs_df[\"phrase\"]=NGRMs_df[\"phrase\"].astype(str).apply(strip_punctuation)\n",
    "    NGRMs_df[\"phrase\"]=NGRMs_df[\"phrase\"].astype(str).apply(strip_multiple_whitespaces)\n",
    "    NgramsList=NGRMs_df[\"phrase\"]\n",
    "    print(i,\"\\n\", len(NgramsList))\n",
    "    UpdatedTexts = UpdateText(UpdatedTexts,NgramsList) \n",
    "data[\"Job_Description\"]=UpdatedTexts[10]"
   ]
  },
  {
   "cell_type": "code",
   "execution_count": 204,
   "metadata": {
    "scrolled": true
   },
   "outputs": [
    {
     "data": {
      "text/plain": [
       "'inc leader predictive analytics and data science software the intelligence business you team data scientists and software that data science solutions the security you with data scientists business other software and the and that the customer data decisions should the and the business methodology software development and computer science and expertise programming java python and software with some the css aws nosql databases mongodb hadoop spark with data science and software spss sas with and learning algorithms and with plan'"
      ]
     },
     "execution_count": 204,
     "metadata": {},
     "output_type": "execute_result"
    }
   ],
   "source": [
    "data[\"Job_Description\"][10]"
   ]
  },
  {
   "cell_type": "code",
   "execution_count": 63,
   "metadata": {
    "collapsed": true
   },
   "outputs": [],
   "source": [
    "#data.to_csv('C:/Users/moh_e/Desktop/data-2020.csv')"
   ]
  },
  {
   "cell_type": "markdown",
   "metadata": {},
   "source": [
    "### - Delete other duplicate jobs"
   ]
  },
  {
   "cell_type": "code",
   "execution_count": 206,
   "metadata": {
    "collapsed": true
   },
   "outputs": [],
   "source": [
    "keywordsList2=[\"Big+Data\",\"Data+Science\",\"Business+Intelligence\",\"Data+Mining\",\"Machine+Learning\",\"Data+Analytics\"]"
   ]
  },
  {
   "cell_type": "code",
   "execution_count": 207,
   "metadata": {},
   "outputs": [],
   "source": [
    "data[\"Job_Link___\"] = UpdateText(data[\"Job_Link\"],keywordsList2) "
   ]
  },
  {
   "cell_type": "code",
   "execution_count": 211,
   "metadata": {
    "collapsed": true
   },
   "outputs": [],
   "source": [
    "SentList=[]\n",
    "FreqList=[]\n",
    "\n",
    "x_list=data[\"Job_Link___\"]\n",
    "for k in data[\"Job_Link___\"]:\n",
    "    i=0\n",
    "    if k!=\" \":\n",
    "        \n",
    "        for j in x_list:\n",
    "            if j==k :\n",
    "                i=i+1\n",
    "        SentList.append(k)\n",
    "        FreqList.append(i)\n",
    "        \n",
    "dataFreq = {'Link':SentList,'count':FreqList}\n",
    "FreqDf=pd.DataFrame(dataFreq)\n",
    "\n",
    "Link_Freq = FreqDf[FreqDf['count'] >= 2].sort_values(by='count', ascending=False)"
   ]
  },
  {
   "cell_type": "code",
   "execution_count": 212,
   "metadata": {
    "collapsed": true
   },
   "outputs": [],
   "source": [
    "import nltk\n",
    "word_data = Link_Freq[\"Link\"]\n",
    "nltk_tokens = word_data\n",
    "\n",
    "ordered_tokens = set()\n",
    "result = []\n",
    "\n",
    "for word in nltk_tokens:\n",
    "    if word not in ordered_tokens:\n",
    "        ordered_tokens.add(word)\n",
    "        result.append(word)"
   ]
  },
  {
   "cell_type": "code",
   "execution_count": 213,
   "metadata": {},
   "outputs": [
    {
     "data": {
      "text/plain": [
       "877"
      ]
     },
     "execution_count": 213,
     "metadata": {},
     "output_type": "execute_result"
    }
   ],
   "source": [
    "len(result)"
   ]
  },
  {
   "cell_type": "code",
   "execution_count": 214,
   "metadata": {},
   "outputs": [
    {
     "name": "stdout",
     "output_type": "stream",
     "text": [
      "<class 'pandas.core.frame.DataFrame'>\n",
      "RangeIndex: 9067 entries, 0 to 9066\n",
      "Data columns (total 7 columns):\n",
      "Unnamed: 0         9067 non-null int64\n",
      "Job_Title          9067 non-null object\n",
      "Job_Skills         8710 non-null object\n",
      "Job_Link           9067 non-null object\n",
      "Job_Description    9063 non-null object\n",
      "Search_keywords    9067 non-null object\n",
      "Job_Link___        9067 non-null object\n",
      "dtypes: int64(1), object(6)\n",
      "memory usage: 495.9+ KB\n"
     ]
    }
   ],
   "source": [
    "# Eliminate Duplicate Items by Product Category and Product Link \n",
    "#toclean = data\n",
    "#deduped = toclean.drop_duplicates(subset=['Job_Link___'], keep='first')\n",
    "#deduped.to_csv('C:/Users/moh_e/Desktop/JobOf10k.csv', sep=',', encoding=\"ISO-8859-1\")\n",
    "\n",
    "\n",
    "data2 =pd.read_csv(\"C:/Users/moh_e/Desktop/JobOf10k.csv\",sep=',',encoding = \"ISO-8859-1\")\n",
    "data2.info()"
   ]
  },
  {
   "cell_type": "code",
   "execution_count": 76,
   "metadata": {
    "collapsed": true
   },
   "outputs": [],
   "source": [
    "#data.to_csv('C:/Users/moh_e/Desktop/datas55.csv') "
   ]
  },
  {
   "cell_type": "code",
   "execution_count": 217,
   "metadata": {
    "scrolled": true
   },
   "outputs": [
    {
     "data": {
      "text/plain": [
       "['leader',\n",
       " 'predict',\n",
       " 'analyt',\n",
       " 'data',\n",
       " 'scienc',\n",
       " 'softwar',\n",
       " 'intellig',\n",
       " 'busi',\n",
       " 'team',\n",
       " 'data',\n",
       " 'scientist',\n",
       " 'softwar',\n",
       " 'data',\n",
       " 'scienc',\n",
       " 'solut',\n",
       " 'secur',\n",
       " 'data',\n",
       " 'scientist',\n",
       " 'busi',\n",
       " 'softwar',\n",
       " 'custom',\n",
       " 'data',\n",
       " 'decis',\n",
       " 'busi',\n",
       " 'methodolog',\n",
       " 'softwar',\n",
       " 'develop',\n",
       " 'scienc',\n",
       " 'expertis',\n",
       " 'program',\n",
       " 'java',\n",
       " 'python',\n",
       " 'softwar',\n",
       " 'css',\n",
       " 'aw',\n",
       " 'nosql',\n",
       " 'databas',\n",
       " 'mongodb',\n",
       " 'hadoop',\n",
       " 'spark',\n",
       " 'data',\n",
       " 'scienc',\n",
       " 'softwar',\n",
       " 'spss',\n",
       " 'sa',\n",
       " 'learn',\n",
       " 'algorithm',\n",
       " 'databas',\n",
       " 'plan']"
      ]
     },
     "execution_count": 217,
     "metadata": {},
     "output_type": "execute_result"
    }
   ],
   "source": [
    "processed_data=data2[\"Job_Description\"].astype(str).apply(preprocess)\n",
    "processed_data[10]"
   ]
  },
  {
   "cell_type": "code",
   "execution_count": 218,
   "metadata": {
    "collapsed": true,
    "scrolled": true
   },
   "outputs": [],
   "source": [
    "processed_data = list(map(lambda line: list(filter(lambda word: word not in stop_words, line)), processed_data))"
   ]
  },
  {
   "cell_type": "markdown",
   "metadata": {},
   "source": [
    "# 3- Preparing for LDA"
   ]
  },
  {
   "cell_type": "code",
   "execution_count": 219,
   "metadata": {
    "collapsed": true
   },
   "outputs": [],
   "source": [
    "# Create Dictionary\n",
    "import gensim.corpora as corpora\n",
    "id2word = corpora.Dictionary(processed_data)"
   ]
  },
  {
   "cell_type": "code",
   "execution_count": 220,
   "metadata": {
    "collapsed": true
   },
   "outputs": [],
   "source": [
    "# Create Corpus\n",
    "corpus = [id2word.doc2bow(text) for text in processed_data]"
   ]
  },
  {
   "cell_type": "markdown",
   "metadata": {},
   "source": [
    "# 4- LDA model training and results visualization"
   ]
  },
  {
   "cell_type": "code",
   "execution_count": 221,
   "metadata": {
    "collapsed": true
   },
   "outputs": [],
   "source": [
    "# LDA model\n",
    "lda_model = gensim.models.ldamodel.LdaModel(corpus=corpus,\n",
    "                                           id2word=id2word,\n",
    "                                           num_topics=7, \n",
    "                                           random_state=100,\n",
    "                                           update_every=1,\n",
    "                                           chunksize=100,\n",
    "                                           passes=100,\n",
    "                                           alpha='auto',\n",
    "                                           per_word_topics=True)"
   ]
  },
  {
   "cell_type": "code",
   "execution_count": 222,
   "metadata": {},
   "outputs": [
    {
     "name": "stdout",
     "output_type": "stream",
     "text": [
      "Topic: 0 \n",
      "Words: 0.261*\"market\" + 0.131*\"sale\" + 0.112*\"custom\" + 0.111*\"product\" + 0.047*\"salesforc\" + 0.046*\"team\" + 0.042*\"digit\" + 0.036*\"price\" + 0.030*\"strategi\" + 0.024*\"consum\"\n",
      "Topic: 1 \n",
      "Words: 0.280*\"busi\" + 0.097*\"analyt\" + 0.076*\"data\" + 0.065*\"analyst\" + 0.058*\"analysi\" + 0.030*\"solut\" + 0.029*\"intellig\" + 0.028*\"develop\" + 0.026*\"sql\" + 0.026*\"analyz\"\n",
      "Topic: 2 \n",
      "Words: 0.138*\"manag\" + 0.097*\"project\" + 0.066*\"process\" + 0.061*\"develop\" + 0.059*\"team\" + 0.054*\"client\" + 0.042*\"plan\" + 0.027*\"busi\" + 0.024*\"assist\" + 0.021*\"solut\"\n",
      "Topic: 3 \n",
      "Words: 0.161*\"develop\" + 0.088*\"softwar\" + 0.071*\"design\" + 0.057*\"system\" + 0.042*\"program\" + 0.040*\"team\" + 0.033*\"solut\" + 0.031*\"product\" + 0.030*\"integr\" + 0.027*\"code\"\n",
      "Topic: 4 \n",
      "Words: 0.299*\"data\" + 0.074*\"analyt\" + 0.071*\"analysi\" + 0.071*\"statist\" + 0.065*\"model\" + 0.065*\"scienc\" + 0.026*\"program\" + 0.026*\"team\" + 0.023*\"analyz\" + 0.019*\"develop\"\n",
      "Topic: 5 \n",
      "Words: 0.317*\"data\" + 0.113*\"sql\" + 0.086*\"databas\" + 0.043*\"etl\" + 0.042*\"warehous\" + 0.028*\"big\" + 0.027*\"oracl\" + 0.024*\"model\" + 0.022*\"design\" + 0.019*\"integr\"\n",
      "Topic: 6 \n",
      "Words: 0.373*\"learn\" + 0.164*\"machin\" + 0.072*\"algorithm\" + 0.040*\"python\" + 0.036*\"deep\" + 0.025*\"product\" + 0.025*\"problem\" + 0.024*\"scienc\" + 0.023*\"model\" + 0.020*\"artifici\"\n"
     ]
    }
   ],
   "source": [
    "for idx, topic in lda_model.print_topics(-1):\n",
    "    print('Topic: {} \\nWords: {}'.format(idx, topic)) "
   ]
  },
  {
   "cell_type": "code",
   "execution_count": 223,
   "metadata": {},
   "outputs": [
    {
     "name": "stdout",
     "output_type": "stream",
     "text": [
      "\n",
      "Perplexity Score:  -4.124973554904136\n",
      "\n",
      "Coherence Score:  0.4527748917357267\n"
     ]
    }
   ],
   "source": [
    "# Compute Perplexity Score\n",
    "print('\\nPerplexity Score: ', lda_model.log_perplexity(corpus))\n",
    "\n",
    "# Compute Coherence Score\n",
    "coherence_model_lda = gensim.models.CoherenceModel(model=lda_model, texts=processed_data, dictionary=id2word, coherence='c_v')\n",
    "coherence_lda = coherence_model_lda.get_coherence()\n",
    "print('\\nCoherence Score: ', coherence_lda)"
   ]
  },
  {
   "cell_type": "code",
   "execution_count": 224,
   "metadata": {
    "collapsed": true
   },
   "outputs": [],
   "source": [
    "num_topics=7\n",
    "\n",
    "def get_lda_topics(model, num_topics):\n",
    "    word_dict = {};\n",
    "    for i in range(num_topics):\n",
    "        words = model.show_topic(i, topn = 30);\n",
    "        word_dict['Topic # ' + '{:02d}'.format(i+1)] = [i[0] for i in words];\n",
    "    return pd.DataFrame(word_dict);"
   ]
  },
  {
   "cell_type": "code",
   "execution_count": 225,
   "metadata": {
    "collapsed": true
   },
   "outputs": [],
   "source": [
    "Topics=get_lda_topics(lda_model, num_topics)"
   ]
  },
  {
   "cell_type": "code",
   "execution_count": 226,
   "metadata": {},
   "outputs": [
    {
     "data": {
      "text/html": [
       "<div>\n",
       "<style>\n",
       "    .dataframe thead tr:only-child th {\n",
       "        text-align: right;\n",
       "    }\n",
       "\n",
       "    .dataframe thead th {\n",
       "        text-align: left;\n",
       "    }\n",
       "\n",
       "    .dataframe tbody tr th {\n",
       "        vertical-align: top;\n",
       "    }\n",
       "</style>\n",
       "<table border=\"1\" class=\"dataframe\">\n",
       "  <thead>\n",
       "    <tr style=\"text-align: right;\">\n",
       "      <th></th>\n",
       "      <th>Topic # 01</th>\n",
       "      <th>Topic # 02</th>\n",
       "      <th>Topic # 03</th>\n",
       "      <th>Topic # 04</th>\n",
       "      <th>Topic # 05</th>\n",
       "      <th>Topic # 06</th>\n",
       "      <th>Topic # 07</th>\n",
       "    </tr>\n",
       "  </thead>\n",
       "  <tbody>\n",
       "    <tr>\n",
       "      <th>0</th>\n",
       "      <td>market</td>\n",
       "      <td>busi</td>\n",
       "      <td>manag</td>\n",
       "      <td>develop</td>\n",
       "      <td>data</td>\n",
       "      <td>data</td>\n",
       "      <td>learn</td>\n",
       "    </tr>\n",
       "    <tr>\n",
       "      <th>1</th>\n",
       "      <td>sale</td>\n",
       "      <td>analyt</td>\n",
       "      <td>project</td>\n",
       "      <td>softwar</td>\n",
       "      <td>analyt</td>\n",
       "      <td>sql</td>\n",
       "      <td>machin</td>\n",
       "    </tr>\n",
       "    <tr>\n",
       "      <th>2</th>\n",
       "      <td>custom</td>\n",
       "      <td>data</td>\n",
       "      <td>process</td>\n",
       "      <td>design</td>\n",
       "      <td>analysi</td>\n",
       "      <td>databas</td>\n",
       "      <td>algorithm</td>\n",
       "    </tr>\n",
       "    <tr>\n",
       "      <th>3</th>\n",
       "      <td>product</td>\n",
       "      <td>analyst</td>\n",
       "      <td>develop</td>\n",
       "      <td>system</td>\n",
       "      <td>statist</td>\n",
       "      <td>etl</td>\n",
       "      <td>python</td>\n",
       "    </tr>\n",
       "    <tr>\n",
       "      <th>4</th>\n",
       "      <td>salesforc</td>\n",
       "      <td>analysi</td>\n",
       "      <td>team</td>\n",
       "      <td>program</td>\n",
       "      <td>model</td>\n",
       "      <td>warehous</td>\n",
       "      <td>deep</td>\n",
       "    </tr>\n",
       "    <tr>\n",
       "      <th>5</th>\n",
       "      <td>team</td>\n",
       "      <td>solut</td>\n",
       "      <td>client</td>\n",
       "      <td>team</td>\n",
       "      <td>scienc</td>\n",
       "      <td>big</td>\n",
       "      <td>product</td>\n",
       "    </tr>\n",
       "    <tr>\n",
       "      <th>6</th>\n",
       "      <td>digit</td>\n",
       "      <td>intellig</td>\n",
       "      <td>plan</td>\n",
       "      <td>solut</td>\n",
       "      <td>program</td>\n",
       "      <td>oracl</td>\n",
       "      <td>problem</td>\n",
       "    </tr>\n",
       "    <tr>\n",
       "      <th>7</th>\n",
       "      <td>price</td>\n",
       "      <td>develop</td>\n",
       "      <td>busi</td>\n",
       "      <td>product</td>\n",
       "      <td>team</td>\n",
       "      <td>model</td>\n",
       "      <td>scienc</td>\n",
       "    </tr>\n",
       "    <tr>\n",
       "      <th>8</th>\n",
       "      <td>strategi</td>\n",
       "      <td>sql</td>\n",
       "      <td>assist</td>\n",
       "      <td>integr</td>\n",
       "      <td>analyz</td>\n",
       "      <td>design</td>\n",
       "      <td>model</td>\n",
       "    </tr>\n",
       "    <tr>\n",
       "      <th>9</th>\n",
       "      <td>consum</td>\n",
       "      <td>analyz</td>\n",
       "      <td>solut</td>\n",
       "      <td>code</td>\n",
       "      <td>develop</td>\n",
       "      <td>integr</td>\n",
       "      <td>artifici</td>\n",
       "    </tr>\n",
       "    <tr>\n",
       "      <th>10</th>\n",
       "      <td>social</td>\n",
       "      <td>financ</td>\n",
       "      <td>program</td>\n",
       "      <td>technolog</td>\n",
       "      <td>mathemat</td>\n",
       "      <td>process</td>\n",
       "      <td>team</td>\n",
       "    </tr>\n",
       "    <tr>\n",
       "      <th>11</th>\n",
       "      <td>competit</td>\n",
       "      <td>financi</td>\n",
       "      <td>technolog</td>\n",
       "      <td>web</td>\n",
       "      <td>scientist</td>\n",
       "      <td>hadoop</td>\n",
       "      <td>scientist</td>\n",
       "    </tr>\n",
       "    <tr>\n",
       "      <th>12</th>\n",
       "      <td>commerci</td>\n",
       "      <td>dashboard</td>\n",
       "      <td>system</td>\n",
       "      <td>cloud</td>\n",
       "      <td>problem</td>\n",
       "      <td>script</td>\n",
       "      <td>process</td>\n",
       "    </tr>\n",
       "    <tr>\n",
       "      <th>13</th>\n",
       "      <td>busi</td>\n",
       "      <td>tableau</td>\n",
       "      <td>train</td>\n",
       "      <td>java</td>\n",
       "      <td>decis</td>\n",
       "      <td>solut</td>\n",
       "      <td>intellig</td>\n",
       "    </tr>\n",
       "    <tr>\n",
       "      <th>14</th>\n",
       "      <td>strateg</td>\n",
       "      <td>excel</td>\n",
       "      <td>lead</td>\n",
       "      <td>secur</td>\n",
       "      <td>python</td>\n",
       "      <td>ssi</td>\n",
       "      <td>comput</td>\n",
       "    </tr>\n",
       "    <tr>\n",
       "      <th>15</th>\n",
       "      <td>leader</td>\n",
       "      <td>decis</td>\n",
       "      <td>custom</td>\n",
       "      <td>agil</td>\n",
       "      <td>laboratori</td>\n",
       "      <td>aw</td>\n",
       "      <td>tensorflow</td>\n",
       "    </tr>\n",
       "    <tr>\n",
       "      <th>16</th>\n",
       "      <td>manag</td>\n",
       "      <td>model</td>\n",
       "      <td>design</td>\n",
       "      <td>problem</td>\n",
       "      <td>scientif</td>\n",
       "      <td>spark</td>\n",
       "      <td>solut</td>\n",
       "    </tr>\n",
       "    <tr>\n",
       "      <th>17</th>\n",
       "      <td>optim</td>\n",
       "      <td>problem</td>\n",
       "      <td>organ</td>\n",
       "      <td>api</td>\n",
       "      <td>predict</td>\n",
       "      <td>metadata</td>\n",
       "      <td>spark</td>\n",
       "    </tr>\n",
       "    <tr>\n",
       "      <th>18</th>\n",
       "      <td>analyz</td>\n",
       "      <td>strateg</td>\n",
       "      <td>product</td>\n",
       "      <td>scienc</td>\n",
       "      <td>analys</td>\n",
       "      <td>ssr</td>\n",
       "      <td>optim</td>\n",
       "    </tr>\n",
       "    <tr>\n",
       "      <th>19</th>\n",
       "      <td>web</td>\n",
       "      <td>databas</td>\n",
       "      <td>leadership</td>\n",
       "      <td>script</td>\n",
       "      <td>optim</td>\n",
       "      <td>cloud</td>\n",
       "      <td>custom</td>\n",
       "    </tr>\n",
       "    <tr>\n",
       "      <th>20</th>\n",
       "      <td>leadership</td>\n",
       "      <td>sa</td>\n",
       "      <td>problem</td>\n",
       "      <td>custom</td>\n",
       "      <td>valid</td>\n",
       "      <td>nosql</td>\n",
       "      <td>cluster</td>\n",
       "    </tr>\n",
       "    <tr>\n",
       "      <th>21</th>\n",
       "      <td>ecommerc</td>\n",
       "      <td>custom</td>\n",
       "      <td>strategi</td>\n",
       "      <td>javascript</td>\n",
       "      <td>process</td>\n",
       "      <td>mysql</td>\n",
       "      <td>technolog</td>\n",
       "    </tr>\n",
       "    <tr>\n",
       "      <th>22</th>\n",
       "      <td>benefit</td>\n",
       "      <td>forecast</td>\n",
       "      <td>risk</td>\n",
       "      <td>solv</td>\n",
       "      <td>evalu</td>\n",
       "      <td>queri</td>\n",
       "      <td>distribut</td>\n",
       "    </tr>\n",
       "    <tr>\n",
       "      <th>23</th>\n",
       "      <td>organ</td>\n",
       "      <td>team</td>\n",
       "      <td>administr</td>\n",
       "      <td>troubleshoot</td>\n",
       "      <td>dataset</td>\n",
       "      <td>kafka</td>\n",
       "      <td>solv</td>\n",
       "    </tr>\n",
       "    <tr>\n",
       "      <th>24</th>\n",
       "      <td>lead</td>\n",
       "      <td>metric</td>\n",
       "      <td>benefit</td>\n",
       "      <td>aw</td>\n",
       "      <td>math</td>\n",
       "      <td>python</td>\n",
       "      <td>hadoop</td>\n",
       "    </tr>\n",
       "    <tr>\n",
       "      <th>25</th>\n",
       "      <td>increas</td>\n",
       "      <td>organ</td>\n",
       "      <td>senior</td>\n",
       "      <td>databas</td>\n",
       "      <td>regress</td>\n",
       "      <td>analyt</td>\n",
       "      <td>aw</td>\n",
       "    </tr>\n",
       "    <tr>\n",
       "      <th>26</th>\n",
       "      <td>decis</td>\n",
       "      <td>senior</td>\n",
       "      <td>analysi</td>\n",
       "      <td>devop</td>\n",
       "      <td>expertis</td>\n",
       "      <td>develop</td>\n",
       "      <td>classif</td>\n",
       "    </tr>\n",
       "    <tr>\n",
       "      <th>27</th>\n",
       "      <td>forecast</td>\n",
       "      <td>queri</td>\n",
       "      <td>organiz</td>\n",
       "      <td>cod</td>\n",
       "      <td>product</td>\n",
       "      <td>structur</td>\n",
       "      <td>innov</td>\n",
       "    </tr>\n",
       "    <tr>\n",
       "      <th>28</th>\n",
       "      <td>comfort</td>\n",
       "      <td>solv</td>\n",
       "      <td>financi</td>\n",
       "      <td>senior</td>\n",
       "      <td>design</td>\n",
       "      <td>java</td>\n",
       "      <td>train</td>\n",
       "    </tr>\n",
       "    <tr>\n",
       "      <th>29</th>\n",
       "      <td>innov</td>\n",
       "      <td>design</td>\n",
       "      <td>cost</td>\n",
       "      <td>sql</td>\n",
       "      <td>innov</td>\n",
       "      <td>govern</td>\n",
       "      <td>expertis</td>\n",
       "    </tr>\n",
       "  </tbody>\n",
       "</table>\n",
       "</div>"
      ],
      "text/plain": [
       "    Topic # 01 Topic # 02  Topic # 03    Topic # 04  Topic # 05 Topic # 06  \\\n",
       "0       market       busi       manag       develop        data       data   \n",
       "1         sale     analyt     project       softwar      analyt        sql   \n",
       "2       custom       data     process        design     analysi    databas   \n",
       "3      product    analyst     develop        system     statist        etl   \n",
       "4    salesforc    analysi        team       program       model   warehous   \n",
       "5         team      solut      client          team      scienc        big   \n",
       "6        digit   intellig        plan         solut     program      oracl   \n",
       "7        price    develop        busi       product        team      model   \n",
       "8     strategi        sql      assist        integr      analyz     design   \n",
       "9       consum     analyz       solut          code     develop     integr   \n",
       "10      social     financ     program     technolog    mathemat    process   \n",
       "11    competit    financi   technolog           web   scientist     hadoop   \n",
       "12    commerci  dashboard      system         cloud     problem     script   \n",
       "13        busi    tableau       train          java       decis      solut   \n",
       "14     strateg      excel        lead         secur      python        ssi   \n",
       "15      leader      decis      custom          agil  laboratori         aw   \n",
       "16       manag      model      design       problem    scientif      spark   \n",
       "17       optim    problem       organ           api     predict   metadata   \n",
       "18      analyz    strateg     product        scienc      analys        ssr   \n",
       "19         web    databas  leadership        script       optim      cloud   \n",
       "20  leadership         sa     problem        custom       valid      nosql   \n",
       "21    ecommerc     custom    strategi    javascript     process      mysql   \n",
       "22     benefit   forecast        risk          solv       evalu      queri   \n",
       "23       organ       team   administr  troubleshoot     dataset      kafka   \n",
       "24        lead     metric     benefit            aw        math     python   \n",
       "25     increas      organ      senior       databas     regress     analyt   \n",
       "26       decis     senior     analysi         devop    expertis    develop   \n",
       "27    forecast      queri     organiz           cod     product   structur   \n",
       "28     comfort       solv     financi        senior      design       java   \n",
       "29       innov     design        cost           sql       innov     govern   \n",
       "\n",
       "    Topic # 07  \n",
       "0        learn  \n",
       "1       machin  \n",
       "2    algorithm  \n",
       "3       python  \n",
       "4         deep  \n",
       "5      product  \n",
       "6      problem  \n",
       "7       scienc  \n",
       "8        model  \n",
       "9     artifici  \n",
       "10        team  \n",
       "11   scientist  \n",
       "12     process  \n",
       "13    intellig  \n",
       "14      comput  \n",
       "15  tensorflow  \n",
       "16       solut  \n",
       "17       spark  \n",
       "18       optim  \n",
       "19      custom  \n",
       "20     cluster  \n",
       "21   technolog  \n",
       "22   distribut  \n",
       "23        solv  \n",
       "24      hadoop  \n",
       "25          aw  \n",
       "26     classif  \n",
       "27       innov  \n",
       "28       train  \n",
       "29    expertis  "
      ]
     },
     "execution_count": 226,
     "metadata": {},
     "output_type": "execute_result"
    }
   ],
   "source": [
    "Topics"
   ]
  },
  {
   "cell_type": "code",
   "execution_count": 227,
   "metadata": {},
   "outputs": [
    {
     "data": {
      "text/html": [
       "\n",
       "<link rel=\"stylesheet\" type=\"text/css\" href=\"https://cdn.rawgit.com/bmabey/pyLDAvis/files/ldavis.v1.0.0.css\">\n",
       "\n",
       "\n",
       "<div id=\"ldavis_el192162374687523968921511704\"></div>\n",
       "<script type=\"text/javascript\">\n",
       "\n",
       "var ldavis_el192162374687523968921511704_data = {\"mdsDat\": {\"Freq\": [27.016927939914538, 21.282961346013852, 16.239974750431287, 14.18448095438188, 10.35833509592573, 6.210401181505711, 4.706918731826995], \"cluster\": [1, 1, 1, 1, 1, 1, 1], \"topics\": [1, 2, 3, 4, 5, 6, 7], \"x\": [-68.28971099853516, -73.1097412109375, 55.1661491394043, 59.98618698120117, -6.561771869659424, -11.381937026977539, -1.7417073249816895], \"y\": [-52.66067886352539, 21.399545669555664, 29.748130798339844, -44.31191635131836, -11.456267356872559, 62.604000091552734, -85.51647186279297]}, \"tinfo\": {\"Category\": [\"Default\", \"Default\", \"Default\", \"Default\", \"Default\", \"Default\", \"Default\", \"Default\", \"Default\", \"Default\", \"Default\", \"Default\", \"Default\", \"Default\", \"Default\", \"Default\", \"Default\", \"Default\", \"Default\", \"Default\", \"Default\", \"Default\", \"Default\", \"Default\", \"Default\", \"Default\", \"Default\", \"Default\", \"Default\", \"Default\", \"Topic1\", \"Topic1\", \"Topic1\", \"Topic1\", \"Topic1\", \"Topic1\", \"Topic1\", \"Topic1\", \"Topic1\", \"Topic1\", \"Topic1\", \"Topic1\", \"Topic1\", \"Topic1\", \"Topic1\", \"Topic1\", \"Topic1\", \"Topic1\", \"Topic1\", \"Topic1\", \"Topic1\", \"Topic1\", \"Topic1\", \"Topic1\", \"Topic1\", \"Topic1\", \"Topic1\", \"Topic1\", \"Topic1\", \"Topic1\", \"Topic1\", \"Topic1\", \"Topic1\", \"Topic1\", \"Topic1\", \"Topic1\", \"Topic1\", \"Topic1\", \"Topic1\", \"Topic1\", \"Topic1\", \"Topic1\", \"Topic1\", \"Topic1\", \"Topic1\", \"Topic1\", \"Topic1\", \"Topic1\", \"Topic1\", \"Topic2\", \"Topic2\", \"Topic2\", \"Topic2\", \"Topic2\", \"Topic2\", \"Topic2\", \"Topic2\", \"Topic2\", \"Topic2\", \"Topic2\", \"Topic2\", \"Topic2\", \"Topic2\", \"Topic2\", \"Topic2\", \"Topic2\", \"Topic2\", \"Topic2\", \"Topic2\", \"Topic2\", \"Topic2\", \"Topic2\", \"Topic2\", \"Topic2\", \"Topic2\", \"Topic2\", \"Topic2\", \"Topic2\", \"Topic2\", \"Topic2\", \"Topic2\", \"Topic2\", \"Topic2\", \"Topic2\", \"Topic2\", \"Topic2\", \"Topic2\", \"Topic2\", \"Topic2\", \"Topic2\", \"Topic2\", \"Topic2\", \"Topic2\", \"Topic3\", \"Topic3\", \"Topic3\", \"Topic3\", \"Topic3\", \"Topic3\", \"Topic3\", \"Topic3\", \"Topic3\", \"Topic3\", \"Topic3\", \"Topic3\", \"Topic3\", \"Topic3\", \"Topic3\", \"Topic3\", \"Topic3\", \"Topic3\", \"Topic3\", \"Topic3\", \"Topic3\", \"Topic3\", \"Topic3\", \"Topic3\", \"Topic3\", \"Topic3\", \"Topic3\", \"Topic3\", \"Topic3\", \"Topic3\", \"Topic3\", \"Topic3\", \"Topic3\", \"Topic3\", \"Topic3\", \"Topic3\", \"Topic3\", \"Topic3\", \"Topic3\", \"Topic3\", \"Topic3\", \"Topic3\", \"Topic4\", \"Topic4\", \"Topic4\", \"Topic4\", \"Topic4\", \"Topic4\", \"Topic4\", \"Topic4\", \"Topic4\", \"Topic4\", \"Topic4\", \"Topic4\", \"Topic4\", \"Topic4\", \"Topic4\", \"Topic4\", \"Topic4\", \"Topic4\", \"Topic4\", \"Topic4\", \"Topic4\", \"Topic4\", \"Topic4\", \"Topic4\", \"Topic4\", \"Topic4\", \"Topic4\", \"Topic4\", \"Topic4\", \"Topic4\", \"Topic4\", \"Topic4\", \"Topic4\", \"Topic4\", \"Topic4\", \"Topic4\", \"Topic4\", \"Topic4\", \"Topic4\", \"Topic5\", \"Topic5\", \"Topic5\", \"Topic5\", \"Topic5\", \"Topic5\", \"Topic5\", \"Topic5\", \"Topic5\", \"Topic5\", \"Topic5\", \"Topic5\", \"Topic5\", \"Topic5\", \"Topic5\", \"Topic5\", \"Topic5\", \"Topic5\", \"Topic5\", \"Topic5\", \"Topic5\", \"Topic5\", \"Topic5\", \"Topic5\", \"Topic5\", \"Topic5\", \"Topic5\", \"Topic5\", \"Topic5\", \"Topic5\", \"Topic5\", \"Topic5\", \"Topic5\", \"Topic5\", \"Topic5\", \"Topic5\", \"Topic5\", \"Topic5\", \"Topic5\", \"Topic5\", \"Topic5\", \"Topic6\", \"Topic6\", \"Topic6\", \"Topic6\", \"Topic6\", \"Topic6\", \"Topic6\", \"Topic6\", \"Topic6\", \"Topic6\", \"Topic6\", \"Topic6\", \"Topic6\", \"Topic6\", \"Topic6\", \"Topic6\", \"Topic6\", \"Topic6\", \"Topic6\", \"Topic6\", \"Topic6\", \"Topic6\", \"Topic6\", \"Topic6\", \"Topic6\", \"Topic6\", \"Topic6\", \"Topic6\", \"Topic6\", \"Topic6\", \"Topic6\", \"Topic6\", \"Topic6\", \"Topic6\", \"Topic6\", \"Topic7\", \"Topic7\", \"Topic7\", \"Topic7\", \"Topic7\", \"Topic7\", \"Topic7\", \"Topic7\", \"Topic7\", \"Topic7\", \"Topic7\", \"Topic7\", \"Topic7\", \"Topic7\", \"Topic7\", \"Topic7\", \"Topic7\", \"Topic7\", \"Topic7\", \"Topic7\", \"Topic7\", \"Topic7\", \"Topic7\", \"Topic7\", \"Topic7\", \"Topic7\", \"Topic7\", \"Topic7\", \"Topic7\", \"Topic7\", \"Topic7\", \"Topic7\", \"Topic7\", \"Topic7\", \"Topic7\", \"Topic7\", \"Topic7\", \"Topic7\"], \"Freq\": [57484.0, 29597.0, 14434.0, 23551.0, 7651.0, 16377.0, 11636.0, 16632.0, 6335.0, 11162.0, 10570.0, 36552.0, 9003.0, 7151.0, 14046.0, 9098.0, 3845.0, 8011.0, 5768.0, 9309.0, 7145.0, 10242.0, 11171.0, 2777.0, 14008.0, 14471.0, 20810.0, 2805.0, 11581.0, 2686.0, 16375.885916854299, 9096.974740100088, 7143.936078676743, 4117.476837821068, 2066.048547788732, 1320.4036369836626, 743.8966762281792, 515.7592015162145, 486.74673535657047, 474.30445677066604, 442.1596945085452, 213.37326938020718, 125.30363874102382, 23271.1182340384, 106.07456826627293, 84.90684298518944, 1458.3239640243976, 2980.577985613286, 1941.349357485838, 2336.094434471905, 1103.9127584283654, 714.2758300830874, 237.26364510283815, 203.30982203051138, 783.5701261036814, 2838.1060836927027, 135.7528091195904, 897.5372314908449, 11060.340448826211, 78.55416843334518, 2588.139364097093, 1711.4906690059804, 2090.049144097265, 10004.784820406, 1041.3318588771137, 3264.220712009907, 573.8184098689766, 1685.5569671574037, 10287.638492118986, 3597.4060328767528, 3300.815907400927, 3134.6199704853784, 2759.230106836384, 4494.023772513101, 2167.0004863783347, 2695.14192459573, 2402.9725446545926, 1321.7064399951096, 1665.653651024185, 11635.051266085204, 3607.377488507015, 3363.379779662733, 1915.9882179965405, 1605.6506700906355, 1024.6973859757445, 967.6944782878262, 743.8099872147135, 711.1230038876242, 680.9181124540518, 661.6476850895829, 457.41541037822657, 343.4055169842931, 269.69116918181106, 160.95046134507774, 139.12805968606736, 78.01457926810762, 2563.443905803555, 3526.56229169324, 3457.061494301266, 246.89444558543565, 378.07420084795876, 1008.6710220073899, 3526.108766650338, 737.3408293854511, 1370.3835036866737, 7544.355228765282, 9360.662967502692, 3939.7470852750052, 1680.9643733390294, 21373.862672901665, 5617.506012813536, 3559.2015127780724, 1346.8605066930872, 4351.5478242299305, 4067.330476540138, 5311.119817290952, 2526.33542403709, 1397.167555818445, 1795.7010189883597, 1662.4659889460945, 988.6719887429347, 1082.513116816166, 981.0368884668659, 7150.321543318162, 1909.4119318810142, 1228.6231259901404, 1157.3821486255665, 1153.0270413862902, 699.7279024018305, 657.4908774895353, 265.1335605148087, 219.48614604074749, 188.94566892567926, 130.669058732361, 106.86649904060127, 635.762865955358, 5.921254886228004, 1103.4158202026842, 6572.2685158839695, 1495.1920680312357, 201.92189368874494, 6584.0772629023095, 30263.671700250074, 7208.174898775589, 808.8772000295372, 120.0494773006253, 7483.639910670646, 1057.928872184788, 414.57926910770294, 198.72864185692413, 1348.6095081725161, 2319.58503302606, 711.6752158707861, 1249.5980036413207, 2662.1793846452492, 280.9692918690376, 2626.442913156391, 1391.7453055407757, 612.0853531736508, 437.3282122246032, 1947.9238813606244, 770.5879281090478, 389.79878812399045, 462.80256270600364, 456.5087509926545, 5767.107657142937, 1892.168612350918, 1702.4552023749973, 995.9105715221901, 476.7149583328609, 99.63043761007725, 1571.9861765316782, 769.0848171021366, 24761.09437405469, 2601.457480066293, 5.294577577665441, 176.64116108623304, 1535.4535644787704, 1820.0305976868428, 733.1777296281965, 8614.580536175132, 557.62477129124, 116.47011314722171, 1078.7276373360587, 1426.9303622511031, 2300.652881506917, 5111.845170238889, 121.77931992875011, 357.4913325224518, 2673.5809993615862, 2313.508461695338, 209.38809344562566, 651.009043307142, 674.044449202906, 110.0197461043331, 543.811096642367, 6755.030951026117, 1115.170394574529, 1046.5049266942606, 1229.715928370764, 2469.580426809935, 922.9151887386872, 748.8235859470778, 540.3239721297285, 2803.760631258082, 2685.3029556492447, 1002.6266867986711, 890.1431257239266, 881.0537266783831, 749.0776396985159, 619.9869664383012, 573.3539894880653, 339.82887158474716, 249.54707299797164, 188.62063759180094, 114.06572709168273, 62.509992255673126, 1142.9009770454047, 1739.7391367897321, 1776.4689047300553, 261.3748785201399, 5528.741619163176, 7274.651060576704, 919.150630403207, 1.696850264186762, 574.374214040988, 364.13560277351223, 973.6026424888977, 1043.485047230616, 20464.5408633726, 230.19860727444336, 92.30197912725313, 411.20919548008317, 55.795428536461614, 1234.6798076601624, 762.6558343157645, 1524.5560180223843, 1418.3682221867393, 1161.3650987985247, 1015.8483471266003, 540.3799205518842, 533.44350024365, 358.86123489749764, 473.37165250902785, 367.9753231005589, 14433.195672850905, 6334.231711870036, 2776.147016406255, 772.2047176444603, 500.9127700389586, 1391.4178344031236, 300.50895187311534, 518.2522849930164, 1554.3864491444253, 437.23505966830436, 686.4405497111301, 0.47466892747321393, 0.4746846684027506, 174.8664417583942, 284.71641856900726, 554.3267193581454, 0.4748030246984386, 377.5840342991054, 205.26250996463864, 972.3255568590564, 163.25359500912035, 941.2346171153116, 903.3203057155238, 982.9703253140126, 284.0312471064207, 182.6778327549531, 0.47493624155847664, 0.4748315485304848, 146.42215303095745, 159.22572003564966, 597.7118369495189, 373.9646082049946, 754.83502067292, 456.47290452480973, 292.2627162543086, 7650.083682484925, 3844.569464132507, 1364.6194060463372, 1067.5818381589531, 707.6413463046316, 144.8253375405275, 1245.2670489541445, 538.2933748890326, 430.0506411162248, 446.62517401458575, 3284.4270549729627, 3245.9203772318265, 865.8176279392842, 91.56341076865982, 20.96850392587614, 292.4364507276574, 24.635014892218635, 324.7993686746131, 37.8046550903983, 82.83007066514521, 29.58666339394492, 85.3147720461475, 217.8657289024962, 0.12312155247215781, 0.12312480858709483, 28.95675781737992, 1364.1819071838634, 152.18178471137455, 45.3593131870381, 81.51096021436076, 156.19664574298247, 109.83878608692078, 189.47088300335565, 341.20207777559943, 279.1044873281843, 102.18233052101567, 94.73113702448894, 89.07166507657541], \"Term\": [\"data\", \"busi\", \"learn\", \"manag\", \"market\", \"project\", \"softwar\", \"analyt\", \"machin\", \"product\", \"sql\", \"develop\", \"custom\", \"statist\", \"analysi\", \"client\", \"sale\", \"databas\", \"analyst\", \"scienc\", \"plan\", \"model\", \"system\", \"algorithm\", \"process\", \"design\", \"team\", \"etl\", \"program\", \"warehous\", \"project\", \"client\", \"plan\", \"assist\", \"risk\", \"cost\", \"supervis\", \"erp\", \"invest\", \"object\", \"expect\", \"logist\", \"calcul\", \"manag\", \"tax\", \"true\", \"organiz\", \"train\", \"administr\", \"leadership\", \"insur\", \"achiev\", \"balanc\", \"iot\", \"respons\", \"lead\", \"technic\", \"resolv\", \"process\", \"discount\", \"organ\", \"benefit\", \"strategi\", \"team\", \"leader\", \"technolog\", \"basi\", \"senior\", \"develop\", \"solut\", \"program\", \"system\", \"custom\", \"busi\", \"problem\", \"design\", \"product\", \"financi\", \"analysi\", \"softwar\", \"code\", \"secur\", \"api\", \"javascript\", \"devop\", \"html\", \"css\", \"scrum\", \"xml\", \"storag\", \"jqueri\", \"json\", \"debug\", \"cybersecur\", \"cyber\", \"technician\", \"agil\", \"web\", \"java\", \"saa\", \"sdlc\", \"cod\", \"cloud\", \"produc\", \"troubleshoot\", \"system\", \"design\", \"integr\", \"script\", \"develop\", \"program\", \"technolog\", \"aw\", \"solut\", \"product\", \"team\", \"problem\", \"solv\", \"scienc\", \"custom\", \"senior\", \"databas\", \"sql\", \"statist\", \"mathemat\", \"laboratori\", \"scientif\", \"predict\", \"dataset\", \"math\", \"matlab\", \"nlp\", \"hdf\", \"biostatist\", \"kera\", \"regress\", \"ggplot\", \"analys\", \"scienc\", \"scientist\", \"extract\", \"model\", \"data\", \"analysi\", \"valid\", \"characterist\", \"analyt\", \"optim\", \"social\", \"domain\", \"decis\", \"analyz\", \"evalu\", \"python\", \"program\", \"classif\", \"team\", \"problem\", \"expertis\", \"innov\", \"develop\", \"process\", \"structur\", \"product\", \"design\", \"analyst\", \"financ\", \"dashboard\", \"sa\", \"econom\", \"spss\", \"tableau\", \"forecast\", \"busi\", \"intellig\", \"fals\", \"powerbi\", \"excel\", \"financi\", \"metric\", \"analyt\", \"queri\", \"characterist\", \"strateg\", \"decis\", \"analyz\", \"analysi\", \"match\", \"analys\", \"solut\", \"sql\", \"produc\", \"senior\", \"organ\", \"comfort\", \"solv\", \"data\", \"problem\", \"databas\", \"model\", \"develop\", \"custom\", \"team\", \"design\", \"etl\", \"warehous\", \"ssi\", \"metadata\", \"ssr\", \"nosql\", \"mysql\", \"kafka\", \"mongodb\", \"postgresql\", \"gitlab\", \"mssql\", \"pyspark\", \"hadoop\", \"oracl\", \"big\", \"ecosystem\", \"databas\", \"sql\", \"spark\", \"sparksql\", \"queri\", \"govern\", \"aw\", \"script\", \"data\", \"transform\", \"extract\", \"structur\", \"powerbi\", \"integr\", \"cloud\", \"model\", \"design\", \"process\", \"solut\", \"python\", \"analyt\", \"optim\", \"develop\", \"java\", \"learn\", \"machin\", \"algorithm\", \"artifici\", \"tensorflow\", \"deep\", \"cluster\", \"comput\", \"python\", \"spark\", \"scientist\", \"peoplead\", \"nan\", \"classif\", \"distribut\", \"intellig\", \"sparksql\", \"optim\", \"hadoop\", \"problem\", \"innov\", \"scienc\", \"model\", \"product\", \"solv\", \"aw\", \"fals\", \"ggplot\", \"expertis\", \"train\", \"process\", \"custom\", \"team\", \"solut\", \"technolog\", \"market\", \"sale\", \"salesforc\", \"price\", \"consum\", \"ecommerc\", \"digit\", \"social\", \"commerci\", \"competit\", \"custom\", \"product\", \"strategi\", \"increas\", \"discount\", \"leader\", \"smart\", \"strateg\", \"saa\", \"comfort\", \"engin\", \"forecast\", \"optim\", \"peoplead\", \"nan\", \"ecosystem\", \"team\", \"leadership\", \"dynam\", \"innov\", \"web\", \"benefit\", \"analyz\", \"busi\", \"manag\", \"organ\", \"lead\", \"decis\"], \"Total\": [57484.0, 29597.0, 14434.0, 23551.0, 7651.0, 16377.0, 11636.0, 16632.0, 6335.0, 11162.0, 10570.0, 36552.0, 9003.0, 7151.0, 14046.0, 9098.0, 3845.0, 8011.0, 5768.0, 9309.0, 7145.0, 10242.0, 11171.0, 2777.0, 14008.0, 14471.0, 20810.0, 2805.0, 11581.0, 2686.0, 16377.296033082706, 9098.387165119875, 7145.346731424004, 4118.88787941266, 2067.4580307288024, 1321.8140609502016, 745.3072194512602, 517.1712466908054, 488.1592812040943, 475.71668584136984, 443.5689158560027, 214.78301796372463, 126.71661952801966, 23551.50960684948, 107.48372593380876, 86.31676718756455, 1516.9048049148187, 3140.7385705463926, 2108.9609892430444, 2586.948985264306, 1238.8354296554219, 804.2120794800254, 268.47300980527564, 231.4031187482186, 899.8166250222655, 3393.860053892775, 163.7737813514423, 1096.9165788937958, 14008.255953215865, 100.80877145360957, 3727.6534097493777, 2515.6414782922498, 3217.748766218825, 20810.40444261109, 1668.3028600922407, 7218.206678377411, 830.4535963085324, 3326.3734397986723, 36552.97670302418, 12095.298441730105, 11581.475563608064, 11171.508095807985, 9003.538021992272, 29597.44927287047, 8172.917046186912, 14471.60522206803, 11162.37038760031, 3142.9893599287725, 14046.985539708588, 11636.481512384335, 3608.807207367196, 3364.8094102211057, 1917.4175563674191, 1607.0793675744428, 1026.1260722266047, 969.1232396042907, 745.2382031187242, 712.5520326449176, 682.346750756903, 663.0787418648948, 458.8437621741351, 344.83365841312326, 271.11986472699556, 162.3788766556557, 140.55637332681323, 79.44914438296381, 2646.5084647220533, 3684.0651369804436, 3960.40651031291, 286.0045816822781, 445.9984730667617, 1223.3427363719143, 4289.977760364693, 996.4620844536086, 1907.1158552951968, 11171.508095807985, 14471.60522206803, 6162.609587297448, 2753.953136311532, 36552.97670302418, 11581.475563608064, 7218.206678377411, 2503.877638135518, 12095.298441730105, 11162.37038760031, 20810.40444261109, 8172.917046186912, 3730.373223592472, 9309.839643371237, 9003.538021992272, 3326.3734397986723, 8011.458666147492, 10570.25208490957, 7151.550159085498, 1910.6405293975918, 1229.8501738437913, 1158.6097623037733, 1154.2551959391938, 700.955678291023, 658.7205575372318, 266.3631194173253, 220.71721075262107, 190.1778336875416, 131.8956848454624, 108.1022906173872, 698.6224300903301, 7.147506362430423, 1461.978641270208, 9309.839643371237, 2182.3845610630333, 295.2360939984877, 10242.049516752582, 57484.09938834423, 14046.985539708588, 1614.959513864471, 248.44306298901506, 16632.520235816944, 2421.000763868683, 953.9784809498333, 477.7357387206133, 3409.0607154023423, 6017.3121883491785, 1865.2663748811667, 4179.495371844636, 11581.475563608064, 756.4856604701204, 20810.40444261109, 8172.917046186912, 2495.308938215357, 1487.2865293736138, 36552.97670302418, 14008.255953215865, 1452.9889481009, 11162.37038760031, 14471.60522206803, 5768.497950559743, 1893.558653385874, 1703.8450772441902, 997.3024398509334, 478.1053341817339, 101.02035614898818, 1625.5876971908265, 855.6657515783983, 29597.44927287047, 3156.6979070692105, 6.683322991349525, 233.6093441174931, 2151.7331768396793, 3142.9893599287725, 1339.984449026981, 16632.520235816944, 1133.172871487433, 248.44306298901506, 2318.111443657408, 3409.0607154023423, 6017.3121883491785, 14046.985539708588, 462.8015032680796, 1461.978641270208, 12095.298441730105, 10570.25208490957, 996.4620844536086, 3326.3734397986723, 3727.6534097493777, 698.6175536983483, 3730.373223592472, 57484.09938834423, 8172.917046186912, 8011.458666147492, 10242.049516752582, 36552.97670302418, 9003.538021992272, 20810.40444261109, 14471.60522206803, 2805.090109557255, 2686.6327618360806, 1003.9560920927452, 891.4733229568584, 882.3835234651864, 750.4109361149204, 621.3201255572112, 574.6849242163184, 341.1616160759077, 250.8818867419493, 189.96042268866987, 115.39854242050555, 63.84093969900473, 1349.0181251029414, 2186.5867987709566, 2297.2000370392925, 376.9121307828511, 8011.458666147492, 10570.25208490957, 1357.2403455683718, 3.0255383232654505, 1133.172871487433, 861.6264520270598, 2503.877638135518, 2753.953136311532, 57484.09938834423, 647.7080246576652, 295.2360939984877, 1452.9889481009, 233.6093441174931, 6162.609587297448, 4289.977760364693, 10242.049516752582, 14471.60522206803, 14008.255953215865, 12095.298441730105, 4179.495371844636, 16632.520235816944, 2421.000763868683, 36552.97670302418, 3960.40651031291, 14434.267621385465, 6335.301939605768, 2777.2179578365954, 773.2751321467189, 501.9827693798594, 1923.3522002145623, 512.4798272078385, 888.2029737148501, 4179.495371844636, 1357.2403455683718, 2182.3845610630333, 1.5630898479167348, 1.5690823636428008, 756.4856604701204, 1411.4425658659693, 3156.6979070692105, 3.0255383232654505, 2421.000763868683, 1349.0181251029414, 8172.917046186912, 1487.2865293736138, 9309.839643371237, 10242.049516752582, 11162.37038760031, 3730.373223592472, 2503.877638135518, 6.683322991349525, 7.147506362430423, 2495.308938215357, 3140.7385705463926, 14008.255953215865, 9003.538021992272, 20810.40444261109, 12095.298441730105, 7218.206678377411, 7651.506857222997, 3845.9919267387772, 1366.0424035070944, 1069.0049541390356, 709.0648606761805, 146.2492733538552, 1500.49605008762, 953.9784809498333, 903.2992621385453, 1178.722567144813, 9003.538021992272, 11162.37038760031, 3217.748766218825, 385.6255400586058, 100.80877145360957, 1668.3028600922407, 143.86482855228144, 2318.111443657408, 286.0045816822781, 698.6175536983483, 287.7269999449111, 855.6657515783983, 2421.000763868683, 1.5630898479167348, 1.5690823636428008, 376.9121307828511, 20810.40444261109, 2586.948985264306, 811.4068867636104, 1487.2865293736138, 3684.0651369804436, 2515.6414782922498, 6017.3121883491785, 29597.44927287047, 23551.50960684948, 3727.6534097493777, 3393.860053892775, 3409.0607154023423], \"loglift\": [30.0, 29.0, 28.0, 27.0, 26.0, 25.0, 24.0, 23.0, 22.0, 21.0, 20.0, 19.0, 18.0, 17.0, 16.0, 15.0, 14.0, 13.0, 12.0, 11.0, 10.0, 9.0, 8.0, 7.0, 6.0, 5.0, 4.0, 3.0, 2.0, 1.0, 1.3086, 1.3086, 1.3085, 1.3084, 1.308, 1.3076, 1.3068, 1.306, 1.3058, 1.3057, 1.3055, 1.3021, 1.2975, 1.2967, 1.2955, 1.2922, 1.2693, 1.2564, 1.2259, 1.2067, 1.1934, 1.1901, 1.1851, 1.1793, 1.1704, 1.1299, 1.1211, 1.1081, 1.0724, 1.0593, 0.9439, 0.9235, 0.8772, 0.5763, 0.8374, 0.5151, 0.939, 0.6289, 0.0409, 0.0961, 0.0535, 0.0378, 0.126, -0.5762, -0.0188, -0.372, -0.2271, 0.4425, -0.8235, 1.5471, 1.5469, 1.5468, 1.5465, 1.5464, 1.5459, 1.5458, 1.5453, 1.5453, 1.5452, 1.5451, 1.5441, 1.5431, 1.542, 1.5384, 1.537, 1.529, 1.5154, 1.5036, 1.4113, 1.4002, 1.382, 1.3543, 1.3512, 1.2461, 1.2168, 1.1547, 1.1116, 1.0999, 1.0536, 1.0107, 0.8237, 0.8402, 0.9272, 0.525, 0.5377, 0.1816, 0.3732, 0.5652, -0.0984, -0.1421, 0.334, -0.4543, -0.8299, 1.8175, 1.8171, 1.8167, 1.8166, 1.8166, 1.8159, 1.8158, 1.8131, 1.8121, 1.8112, 1.8084, 1.8062, 1.7234, 1.6295, 1.5363, 1.4695, 1.4395, 1.4378, 1.3758, 1.1761, 1.1505, 1.1263, 1.0904, 1.0191, 0.9898, 0.9843, 0.9406, 0.8903, 0.8644, 0.8542, 0.6103, 0.3474, 0.8273, -0.2521, 0.0474, 0.4124, 0.5937, -1.1143, -1.0826, 0.5019, -1.3653, -1.6386, 1.9528, 1.9523, 1.9522, 1.9516, 1.9501, 1.9392, 1.9195, 1.8463, 1.7746, 1.7596, 1.7201, 1.6735, 1.6156, 1.4067, 1.35, 1.2951, 1.2439, 1.1954, 1.1881, 1.0821, 0.9916, 0.9422, 0.6179, 0.5446, 0.4436, 0.4337, 0.393, 0.3219, 0.2428, 0.1046, 0.0274, -0.1882, -0.0388, -0.0824, -0.1667, -0.7417, -0.3248, -1.3717, -1.3348, 2.2669, 2.2669, 2.2661, 2.2659, 2.2659, 2.2656, 2.2652, 2.2651, 2.2635, 2.262, 2.2603, 2.2558, 2.2463, 2.1016, 2.0388, 2.0103, 1.9013, 1.8965, 1.8937, 1.8776, 1.6891, 1.5879, 1.4061, 1.3228, 1.2969, 1.2346, 1.2329, 1.1047, 1.0051, 0.8354, 0.6597, 0.5401, 0.3626, -0.0553, -0.2227, -0.2097, 0.2217, -1.1724, 0.3584, -2.0793, -0.1087, 2.7789, 2.7788, 2.7786, 2.7776, 2.7768, 2.4552, 2.2452, 2.2402, 1.7898, 1.6462, 1.6223, 1.5871, 1.5833, 1.3143, 1.1781, 1.0394, 0.927, 0.9208, 0.8961, 0.6501, 0.5695, 0.4873, 0.3508, 0.3492, 0.2038, 0.1611, 0.1348, 0.0674, -0.0567, -0.2029, -0.3753, -0.4023, -0.5378, -0.4981, -0.4278, 3.056, 3.0558, 3.0551, 3.0548, 3.0541, 3.0464, 2.8697, 2.4839, 2.314, 2.0857, 2.0477, 1.821, 1.7434, 1.6183, 1.4859, 1.3148, 1.2914, 1.0908, 1.0326, 0.9238, 0.7814, 0.7506, 0.6481, 0.5149, 0.5111, 0.4899, 0.3312, 0.223, 0.172, 0.1522, -0.1045, -0.0751, -0.402, -1.4068, -1.3792, -0.5406, -0.5225, -0.5886], \"logprob\": [30.0, 29.0, 28.0, 27.0, 26.0, 25.0, 24.0, 23.0, 22.0, 21.0, 20.0, 19.0, 18.0, 17.0, 16.0, 15.0, 14.0, 13.0, 12.0, 11.0, 10.0, 9.0, 8.0, 7.0, 6.0, 5.0, 4.0, 3.0, 2.0, 1.0, -2.3308000564575195, -2.918600082397461, -3.1603000164031982, -3.7112998962402344, -4.400899887084961, -4.848599910736084, -5.422399997711182, -5.788700103759766, -5.84660005569458, -5.872499942779541, -5.942599773406982, -6.671299934387207, -7.20359992980957, -1.9794000387191772, -7.370200157165527, -7.592800140380859, -4.749300003051758, -4.03439998626709, -4.463200092315674, -4.27810001373291, -5.027699947357178, -5.463099956512451, -6.565100193023682, -6.719600200653076, -5.370500087738037, -4.083399772644043, -7.123499870300293, -5.2347002029418945, -2.7232000827789307, -7.670499801635742, -4.175600051879883, -4.589200019836426, -4.389400005340576, -2.823499917984009, -5.086100101470947, -3.94350004196167, -5.682000160217285, -4.604499816894531, -2.795599937438965, -3.846400022506714, -3.9323999881744385, -3.984100103378296, -4.111599922180176, -3.623800039291382, -4.3531999588012695, -4.1350998878479, -4.249899864196777, -4.847599983215332, -4.616300106048584, -2.434000015258789, -3.6050000190734863, -3.675100088119507, -4.237800121307373, -4.4145002365112305, -4.86359977722168, -4.92080020904541, -5.184000015258789, -5.228899955749512, -5.272299766540527, -5.301000118255615, -5.670199871063232, -5.956900119781494, -6.198500156402588, -6.714700222015381, -6.860400199890137, -7.438899993896484, -3.946700096130371, -3.627700090408325, -3.647599935531616, -6.286799907684326, -5.8607001304626465, -4.87939977645874, -3.6277999877929688, -5.192699909210205, -4.57289981842041, -2.8671998977661133, -2.6514999866485596, -3.516900062561035, -4.368599891662598, -1.8257999420166016, -3.162100076675415, -3.618499994277954, -4.590199947357178, -3.4175000190734863, -3.484999895095825, -3.2181999683380127, -3.961199998855591, -4.553599834442139, -4.302599906921387, -4.379700183868408, -4.899400234222412, -4.808700084686279, -4.907199859619141, -2.650399923324585, -3.9707999229431152, -4.4116997718811035, -4.471399784088135, -4.475200176239014, -4.974599838256836, -5.036900043487549, -5.945099830627441, -6.133999824523926, -6.283899784088135, -6.652699947357178, -6.853799819946289, -5.070499897003174, -9.746800422668457, -4.519199848175049, -2.7346999645233154, -4.2153000831604, -6.21750020980835, -2.7328999042510986, -1.2075999975204468, -2.642400026321411, -4.829699993133545, -6.737400054931641, -2.6048998832702637, -4.561299800872803, -5.4980998039245605, -6.233399868011475, -4.31850004196167, -3.77620005607605, -4.957699775695801, -4.394800186157227, -3.638400077819824, -5.8871002197265625, -3.651900053024292, -4.2870001792907715, -5.108500003814697, -5.4446001052856445, -3.9507999420166016, -4.878200054168701, -5.559700012207031, -5.388000011444092, -5.401700019836426, -2.73009991645813, -3.8445000648498535, -3.950200080871582, -4.486299991607666, -5.223100185394287, -6.78849983215332, -4.029900074005127, -4.744800090789795, -1.2730000019073486, -3.52620005607605, -9.723299980163574, -6.21589994430542, -4.053400039672852, -3.8833999633789062, -4.792600154876709, -2.3287999629974365, -5.066299915313721, -6.632400035858154, -4.406499862670898, -4.126699924468994, -3.6491000652313232, -2.8506999015808105, -6.587800025939941, -5.510900020599365, -3.498800039291382, -3.6435000896453857, -6.04580020904541, -4.911499977111816, -4.876699924468994, -6.689300060272217, -5.091400146484375, -2.572000026702881, -4.373199939727783, -4.436800003051758, -4.2754998207092285, -3.578200101852417, -4.5625, -4.771500110626221, -5.097799777984619, -3.136899948120117, -3.1800999641418457, -4.165299892425537, -4.284299850463867, -4.29449987411499, -4.4567999839782715, -4.645999908447266, -4.724100112915039, -5.247200012207031, -5.556000232696533, -5.835899829864502, -6.338900089263916, -6.940299987792969, -4.034299850463867, -3.6142001152038574, -3.5933001041412354, -5.509699821472168, -2.457900047302246, -2.183500051498413, -4.252200126647949, -10.546899795532227, -4.722400188446045, -5.178100109100342, -4.1946001052856445, -4.12529993057251, -1.1491999626159668, -5.63670015335083, -6.550600051879883, -5.05649995803833, -7.053999900817871, -3.9570999145507812, -4.438799858093262, -3.7462000846862793, -3.8183999061584473, -4.0183000564575195, -4.152200222015381, -4.783400058746338, -4.796299934387207, -5.192699909210205, -4.915800094604492, -5.167600154876709, -0.9868000149726868, -1.8104000091552734, -2.6352999210357666, -3.914799928665161, -4.347700119018555, -3.3259999752044678, -4.85860013961792, -4.313600063323975, -3.2151999473571777, -4.48360013961792, -4.032599925994873, -11.309200286865234, -11.309200286865234, -5.400100231170654, -4.912600040435791, -4.246300220489502, -11.308899879455566, -4.630300045013428, -5.239799976348877, -3.6844000816345215, -5.468800067901611, -3.716900110244751, -3.757999897003174, -3.6735000610351562, -4.914999961853027, -5.356400012969971, -11.308699607849121, -11.308899879455566, -5.577600002288818, -5.493800163269043, -4.171000003814697, -4.639900207519531, -3.9375998973846436, -4.4405999183654785, -4.88640022277832, -1.3444000482559204, -2.0325000286102295, -3.0683000087738037, -3.313699960708618, -3.7249999046325684, -5.311399936676025, -3.1598000526428223, -3.998500108718872, -4.2230000495910645, -4.185200214385986, -2.1898999214172363, -2.20169997215271, -3.523200035095215, -5.769899845123291, -7.243899822235107, -4.60860013961792, -7.082699775695801, -4.503699779510498, -6.6545000076293945, -5.870100021362305, -6.899600028991699, -5.8404998779296875, -4.9029998779296875, -12.381500244140625, -12.381400108337402, -6.92110013961792, -3.0685999393463135, -5.2617998123168945, -6.472300052642822, -5.886199951171875, -5.235799789428711, -5.587900161743164, -5.042699813842773, -4.454400062561035, -4.655300140380859, -5.660099983215332, -5.735799789428711, -5.797399997711182]}, \"token.table\": {\"Topic\": [1, 3, 7, 1, 2, 5, 2, 5, 6, 3, 4, 1, 2, 3, 4, 4, 3, 4, 5, 1, 2, 3, 4, 7, 2, 6, 1, 2, 5, 6, 1, 3, 1, 2, 3, 4, 1, 2, 3, 7, 2, 3, 5, 7, 3, 1, 4, 7, 1, 3, 4, 7, 1, 2, 3, 4, 6, 1, 2, 5, 2, 3, 5, 6, 2, 3, 2, 2, 3, 4, 7, 1, 2, 3, 7, 1, 2, 3, 7, 2, 3, 5, 6, 7, 1, 2, 1, 2, 4, 6, 7, 2, 2, 4, 3, 4, 5, 2, 3, 4, 5, 3, 2, 1, 3, 4, 7, 2, 4, 5, 6, 7, 1, 2, 3, 4, 5, 1, 2, 3, 4, 5, 2, 2, 7, 1, 7, 1, 2, 5, 6, 7, 1, 3, 5, 1, 2, 3, 4, 7, 7, 4, 2, 3, 5, 7, 2, 3, 5, 7, 1, 5, 1, 2, 3, 1, 4, 1, 1, 2, 3, 5, 6, 3, 5, 4, 4, 1, 4, 4, 7, 3, 5, 1, 5, 5, 6, 3, 2, 1, 3, 4, 7, 1, 2, 3, 6, 7, 1, 3, 1, 2, 5, 4, 6, 1, 1, 5, 2, 5, 6, 2, 2, 2, 5, 3, 3, 1, 2, 3, 7, 1, 3, 4, 7, 1, 3, 7, 6, 1, 6, 1, 7, 7, 2, 3, 4, 3, 3, 3, 5, 1, 4, 7, 3, 4, 5, 6, 5, 5, 5, 3, 5, 1, 1, 2, 3, 4, 5, 6, 7, 2, 4, 5, 1, 3, 4, 7, 1, 3, 1, 5, 4, 5, 3, 7, 1, 2, 3, 4, 6, 1, 2, 3, 5, 6, 1, 2, 4, 1, 2, 3, 6, 7, 1, 2, 3, 1, 5, 2, 3, 5, 6, 4, 5, 2, 3, 1, 2, 1, 2, 1, 4, 2, 7, 7, 7, 2, 3, 6, 3, 3, 6, 2, 3, 5, 2, 1, 2, 2, 1, 2, 4, 2, 3, 7, 3, 7, 2, 1, 2, 4, 5, 6, 1, 2, 3, 4, 6, 5, 6, 5, 4, 2, 4, 5, 5, 5, 3, 2, 1, 4, 7, 1, 4, 7, 1, 2, 3, 4, 5, 1, 1, 2, 4, 4, 5, 1, 1, 2, 3, 4, 6, 7, 1, 3, 2, 1, 2, 5, 6, 6, 1, 6, 1, 2, 3, 5, 7, 1, 2, 5, 1, 1, 2, 3, 5, 2, 7, 2], \"Freq\": [0.8878255104818206, 0.06838992027521026, 0.042277405261039076, 0.9203584181501008, 0.023708356984804245, 0.055003388204745846, 0.9684457972323834, 0.030984219810009928, 0.9995614467949271, 0.7544569864862612, 0.24418961393979627, 0.11860195878257891, 0.004271379067799961, 0.5131350053450353, 0.36392149657655665, 0.9997403222515494, 0.4499618755240556, 0.5179611915606279, 0.03204565468390187, 0.16917852491866198, 0.0314093725045453, 0.38555420217219627, 0.3823966462061309, 0.0314093725045453, 0.9992606950099566, 0.9983509981199331, 0.9995416531190139, 0.5379655856517922, 0.38899664471035306, 0.07308663858521007, 0.882770302206158, 0.1117430762286276, 0.6911885294392126, 0.06622886606124859, 0.13486605452472442, 0.10596618569799775, 0.6801446131193214, 0.11408620921405332, 0.16139024718085593, 0.043726421649985595, 0.06921469503584218, 0.1467003284721938, 0.7731150841739354, 0.010447501137485613, 0.993209142160247, 0.15183740864180742, 0.8365923621227845, 0.01152126309453857, 0.9864530829940575, 0.4830080524538768, 0.46690778403874755, 0.04427573814160537, 0.07931412733284701, 0.2577709138317528, 0.3714544963421669, 0.06080749762184938, 0.23133287138747047, 0.9998475372508665, 0.8219156827750672, 0.1778563998744686, 0.04292851900115436, 0.16000629809521172, 0.20878870605106895, 0.587340191788521, 0.82478930066026, 0.17493053552160123, 0.9994992230775014, 0.39077174421797733, 0.3320844126687573, 0.15745381635156597, 0.11880606142890886, 0.21366119523121924, 0.18709192743044586, 0.12177581075354464, 0.47603271476385633, 0.36480170311965526, 0.08314085326913075, 0.17222033891462796, 0.3792240960336882, 0.33438302819210025, 0.05741930787137075, 0.02476911319941483, 0.5832000289680401, 0.9984982182375177, 0.9986275974785005, 0.9983385136275321, 0.306435091767347, 0.18459410022375164, 0.1025152554190871, 0.04153922592279369, 0.3647455024878462, 0.9889270526125881, 0.9915082756818193, 0.9989171097367758, 0.5264760224483309, 0.11751075639831071, 0.3560114921822988, 0.1351813752190008, 0.04406188869095779, 0.13068781149980965, 0.6901364945391094, 0.9986366066776818, 0.9958694847825953, 0.15957474665739307, 0.3957101713985722, 0.4185903740443013, 0.026106897890639677, 0.08162831538731473, 0.10866444532451451, 0.0504327808443919, 0.7232164758200942, 0.03587486472436125, 0.18622674946179035, 0.6468529134366677, 0.0315790814486227, 0.03731445072703777, 0.09798498357581399, 0.2814545059786836, 0.5847403393068024, 0.05329251337932306, 0.06757315608158519, 0.012940122601858216, 0.9989025985626101, 0.16927735330270807, 0.8297256096924077, 0.7836619657283932, 0.20831520607969944, 0.14594996989736653, 0.4817765996612099, 0.12682060491081848, 0.2019210748580071, 0.043218194969608534, 0.5379543106577113, 0.4165482794586947, 0.043957356123781856, 0.22430176890157774, 0.2945501250960279, 0.27359886096785857, 0.15158855810381353, 0.05545922857456593, 0.9914579175321266, 0.9976880948554451, 0.14857574332693224, 0.07694100993716134, 0.6924690894344521, 0.07694100993716134, 0.5943133596525181, 0.22590858700241917, 0.07298585118539697, 0.10426550169342423, 0.9977352826586942, 0.9996113816260159, 0.5173523808691821, 0.1002537774326809, 0.3817149172837903, 0.2858161070431932, 0.7133784135143115, 0.9964629715926442, 0.43601815524218684, 0.2264248692204371, 0.2452602123237301, 0.03326241441645359, 0.05850978921448463, 0.684198186150758, 0.3116150154746027, 0.7481308334898205, 0.9991768655367042, 0.4206186686008888, 0.5790665483007698, 0.8987154137950119, 0.09933785458072303, 0.839453607420053, 0.9949440905896281, 0.5756554929727515, 0.42245685371387415, 0.8472829080133963, 0.151962376327862, 0.9938066720778996, 0.9988409734093784, 0.5004855227448592, 0.17374367888033976, 0.08557524482165987, 0.23857340980583966, 0.2864276597592895, 0.2548264860299782, 0.2938236791427453, 0.10959555995484552, 0.05513396267667075, 0.891159530614227, 0.10816610244774132, 0.1601594237016788, 0.6393395434494574, 0.20040211577667003, 0.8239622784857674, 0.17549984709000968, 0.997625198887472, 0.8772569751787874, 0.11667949916171065, 0.8728901922057652, 0.09291975433373492, 0.03408740987786471, 0.999328366976628, 0.9959817211736761, 0.9946824842401942, 0.9970680904521445, 0.9898032630845113, 0.9993087175479806, 0.836215976773939, 0.1107883041814662, 0.02475057859373181, 0.027991725790530022, 0.623987421529951, 0.10849349019877151, 0.09111055530504569, 0.17502817203337726, 0.9029942272948739, 0.03788246330261029, 0.058756473693844534, 0.999912179722677, 0.9916985151776488, 0.999794494466376, 0.9880895275278703, 0.011846374379282189, 0.9998030639910394, 0.38893564244914364, 0.3457205710659055, 0.2636119354377529, 0.9973880312105873, 0.9991413720308189, 0.9948824768973002, 0.9983473168305568, 0.42910945751462387, 0.5470212736664684, 0.02313459683991885, 0.6428400867649359, 0.1200931510815418, 0.14889597999947254, 0.08816594750132703, 0.9965951149801997, 0.987880761826182, 0.9978752892383338, 0.992219860214953, 0.9981197820460543, 0.996391369290876, 0.0384138664423174, 0.10656750045288053, 0.43700936232227755, 0.023957034985531284, 0.1482857855138919, 0.1561337797332901, 0.09004540735941069, 0.12530945497064683, 0.07820407591233798, 0.7957607724413339, 0.6942705545615625, 0.09711203274779198, 0.18081080130389998, 0.02736305895103531, 0.9611677643027003, 0.03757651753446771, 0.9998115232927631, 0.9964848528787716, 0.7576751720640866, 0.23971643861914604, 0.9989125490241589, 0.9990599162939848, 0.26514401011949795, 0.3090695752477397, 0.17031862578972828, 0.1364261981002493, 0.11892938524972406, 0.7895344029219401, 0.02983954615021437, 0.055038971487596365, 0.08287969636459064, 0.04268911147805788, 0.04917397336484532, 0.7396167014263471, 0.20974204965821783, 0.2152768557715453, 0.364349135423585, 0.04147864511952787, 0.08806373251079028, 0.2907984493693034, 0.2850241302906669, 0.485084993630102, 0.22984981364245843, 0.9999208640376233, 0.9868275795599256, 0.1997848844683538, 0.2990791683657991, 0.12920220073402522, 0.37181522211236145, 0.492422660337389, 0.5065423065119378, 0.08874607703618041, 0.9103629837904958, 0.8186584260633597, 0.1805059781297831, 0.8712886361491713, 0.12780381780249325, 0.999294771305085, 0.9986940372359582, 0.863622528517364, 0.13286500438728677, 0.9997420881900763, 0.9992369171671259, 0.19291417132826583, 0.7059197850608926, 0.10107585479949785, 0.9986106087173195, 0.6850305059305358, 0.31433506827314217, 0.6103952815447773, 0.010530317171206746, 0.37872830377822886, 0.997821867633783, 0.15022472955859367, 0.8475365339275882, 0.9994622547667605, 0.5068583039497948, 0.2973207963264218, 0.19570863337563252, 0.5004697862885558, 0.31974458568435504, 0.17377423135019296, 0.4350202947835922, 0.5639540207074039, 0.9998726838191804, 0.29738828002705214, 0.35980922843417595, 0.22107763713993256, 0.08399958090283152, 0.037700599302845646, 0.29541280026097166, 0.37449335931449856, 0.10803208575786895, 0.14582991228853773, 0.07613179244475132, 0.6771092555572021, 0.32197687124972507, 0.6610393874771379, 0.9898994995871592, 0.09280762578978669, 0.21891625492106667, 0.6882522707652377, 0.9990476753911098, 0.9984320610841041, 0.9997832415279184, 0.9983731315803296, 0.3938550937652554, 0.4654651108134837, 0.1402003345823746, 0.6495224306949103, 0.0811126097662065, 0.26913226075683844, 0.19890034289505895, 0.17343559311264656, 0.2684122274362387, 0.07570601286663144, 0.2828651935289593, 0.998246066297033, 0.28062460082505625, 0.6752893105659408, 0.04395109378153193, 0.9670348777347225, 0.03198843107010532, 0.9861958085196779, 0.480769128134478, 0.255208879512465, 0.12618687960830977, 0.035991611891326734, 0.03627992920954831, 0.06554413700903827, 0.8304137504656957, 0.1648615534012778, 0.9817601008265289, 0.4521898783776192, 0.4930587552530474, 0.0141309336993006, 0.04045326117838995, 0.9980422248734284, 0.9491398067816249, 0.05062503498097228, 0.48478633588947617, 0.08337089852876342, 0.043229354792692146, 0.3550982715113998, 0.032422016094519106, 0.15678124596878185, 0.7183622306930807, 0.1242714223899709, 0.9847449431846393, 0.4198247659952783, 0.07863974230295036, 0.5009413505754869, 0.9993922646000324, 0.9573663518041979, 0.04234452817733339, 0.9980262956401432], \"Term\": [\"achiev\", \"achiev\", \"achiev\", \"administr\", \"administr\", \"administr\", \"agil\", \"agil\", \"algorithm\", \"analys\", \"analys\", \"analysi\", \"analysi\", \"analysi\", \"analysi\", \"analyst\", \"analyt\", \"analyt\", \"analyt\", \"analyz\", \"analyz\", \"analyz\", \"analyz\", \"analyz\", \"api\", \"artifici\", \"assist\", \"aw\", \"aw\", \"aw\", \"balanc\", \"balanc\", \"basi\", \"basi\", \"basi\", \"basi\", \"benefit\", \"benefit\", \"benefit\", \"benefit\", \"big\", \"big\", \"big\", \"big\", \"biostatist\", \"busi\", \"busi\", \"busi\", \"calcul\", \"characterist\", \"characterist\", \"characterist\", \"classif\", \"classif\", \"classif\", \"classif\", \"classif\", \"client\", \"cloud\", \"cloud\", \"cluster\", \"cluster\", \"cluster\", \"cluster\", \"cod\", \"cod\", \"code\", \"comfort\", \"comfort\", \"comfort\", \"comfort\", \"commerci\", \"commerci\", \"commerci\", \"commerci\", \"competit\", \"competit\", \"competit\", \"competit\", \"comput\", \"comput\", \"comput\", \"comput\", \"consum\", \"cost\", \"css\", \"custom\", \"custom\", \"custom\", \"custom\", \"custom\", \"cyber\", \"cybersecur\", \"dashboard\", \"data\", \"data\", \"data\", \"databas\", \"databas\", \"databas\", \"databas\", \"dataset\", \"debug\", \"decis\", \"decis\", \"decis\", \"decis\", \"deep\", \"deep\", \"deep\", \"deep\", \"deep\", \"design\", \"design\", \"design\", \"design\", \"design\", \"develop\", \"develop\", \"develop\", \"develop\", \"develop\", \"devop\", \"digit\", \"digit\", \"discount\", \"discount\", \"distribut\", \"distribut\", \"distribut\", \"distribut\", \"distribut\", \"domain\", \"domain\", \"domain\", \"dynam\", \"dynam\", \"dynam\", \"dynam\", \"dynam\", \"ecommerc\", \"econom\", \"ecosystem\", \"ecosystem\", \"ecosystem\", \"ecosystem\", \"engin\", \"engin\", \"engin\", \"engin\", \"erp\", \"etl\", \"evalu\", \"evalu\", \"evalu\", \"excel\", \"excel\", \"expect\", \"expertis\", \"expertis\", \"expertis\", \"expertis\", \"expertis\", \"extract\", \"extract\", \"fals\", \"financ\", \"financi\", \"financi\", \"forecast\", \"forecast\", \"ggplot\", \"gitlab\", \"govern\", \"govern\", \"hadoop\", \"hadoop\", \"hdf\", \"html\", \"increas\", \"increas\", \"increas\", \"increas\", \"innov\", \"innov\", \"innov\", \"innov\", \"innov\", \"insur\", \"insur\", \"integr\", \"integr\", \"integr\", \"intellig\", \"intellig\", \"invest\", \"iot\", \"iot\", \"java\", \"java\", \"java\", \"javascript\", \"jqueri\", \"json\", \"kafka\", \"kera\", \"laboratori\", \"lead\", \"lead\", \"lead\", \"lead\", \"leader\", \"leader\", \"leader\", \"leader\", \"leadership\", \"leadership\", \"leadership\", \"learn\", \"logist\", \"machin\", \"manag\", \"manag\", \"market\", \"match\", \"match\", \"match\", \"math\", \"mathemat\", \"matlab\", \"metadata\", \"metric\", \"metric\", \"metric\", \"model\", \"model\", \"model\", \"model\", \"mongodb\", \"mssql\", \"mysql\", \"nlp\", \"nosql\", \"object\", \"optim\", \"optim\", \"optim\", \"optim\", \"optim\", \"optim\", \"optim\", \"oracl\", \"oracl\", \"oracl\", \"organ\", \"organ\", \"organ\", \"organ\", \"organiz\", \"organiz\", \"plan\", \"postgresql\", \"powerbi\", \"powerbi\", \"predict\", \"price\", \"problem\", \"problem\", \"problem\", \"problem\", \"problem\", \"process\", \"process\", \"process\", \"process\", \"process\", \"produc\", \"produc\", \"produc\", \"product\", \"product\", \"product\", \"product\", \"product\", \"program\", \"program\", \"program\", \"project\", \"pyspark\", \"python\", \"python\", \"python\", \"python\", \"queri\", \"queri\", \"regress\", \"regress\", \"resolv\", \"resolv\", \"respons\", \"respons\", \"risk\", \"sa\", \"saa\", \"saa\", \"sale\", \"salesforc\", \"scienc\", \"scienc\", \"scienc\", \"scientif\", \"scientist\", \"scientist\", \"script\", \"script\", \"script\", \"scrum\", \"sdlc\", \"sdlc\", \"secur\", \"senior\", \"senior\", \"senior\", \"smart\", \"smart\", \"smart\", \"social\", \"social\", \"softwar\", \"solut\", \"solut\", \"solut\", \"solut\", \"solut\", \"solv\", \"solv\", \"solv\", \"solv\", \"solv\", \"spark\", \"spark\", \"sparksql\", \"spss\", \"sql\", \"sql\", \"sql\", \"ssi\", \"ssr\", \"statist\", \"storag\", \"strateg\", \"strateg\", \"strateg\", \"strategi\", \"strategi\", \"strategi\", \"structur\", \"structur\", \"structur\", \"structur\", \"structur\", \"supervis\", \"system\", \"system\", \"system\", \"tableau\", \"tableau\", \"tax\", \"team\", \"team\", \"team\", \"team\", \"team\", \"team\", \"technic\", \"technic\", \"technician\", \"technolog\", \"technolog\", \"technolog\", \"technolog\", \"tensorflow\", \"train\", \"train\", \"transform\", \"transform\", \"transform\", \"transform\", \"transform\", \"troubleshoot\", \"troubleshoot\", \"troubleshoot\", \"true\", \"valid\", \"valid\", \"valid\", \"warehous\", \"web\", \"web\", \"xml\"]}, \"R\": 30, \"lambda.step\": 0.01, \"plot.opts\": {\"xlab\": \"PC1\", \"ylab\": \"PC2\"}, \"topic.order\": [3, 4, 5, 2, 6, 7, 1]};\n",
       "\n",
       "function LDAvis_load_lib(url, callback){\n",
       "  var s = document.createElement('script');\n",
       "  s.src = url;\n",
       "  s.async = true;\n",
       "  s.onreadystatechange = s.onload = callback;\n",
       "  s.onerror = function(){console.warn(\"failed to load library \" + url);};\n",
       "  document.getElementsByTagName(\"head\")[0].appendChild(s);\n",
       "}\n",
       "\n",
       "if(typeof(LDAvis) !== \"undefined\"){\n",
       "   // already loaded: just create the visualization\n",
       "   !function(LDAvis){\n",
       "       new LDAvis(\"#\" + \"ldavis_el192162374687523968921511704\", ldavis_el192162374687523968921511704_data);\n",
       "   }(LDAvis);\n",
       "}else if(typeof define === \"function\" && define.amd){\n",
       "   // require.js is available: use it to load d3/LDAvis\n",
       "   require.config({paths: {d3: \"https://cdnjs.cloudflare.com/ajax/libs/d3/3.5.5/d3.min\"}});\n",
       "   require([\"d3\"], function(d3){\n",
       "      window.d3 = d3;\n",
       "      LDAvis_load_lib(\"https://cdn.rawgit.com/bmabey/pyLDAvis/files/ldavis.v1.0.0.js\", function(){\n",
       "        new LDAvis(\"#\" + \"ldavis_el192162374687523968921511704\", ldavis_el192162374687523968921511704_data);\n",
       "      });\n",
       "    });\n",
       "}else{\n",
       "    // require.js not available: dynamically load d3 & LDAvis\n",
       "    LDAvis_load_lib(\"https://cdnjs.cloudflare.com/ajax/libs/d3/3.5.5/d3.min.js\", function(){\n",
       "         LDAvis_load_lib(\"https://cdn.rawgit.com/bmabey/pyLDAvis/files/ldavis.v1.0.0.js\", function(){\n",
       "                 new LDAvis(\"#\" + \"ldavis_el192162374687523968921511704\", ldavis_el192162374687523968921511704_data);\n",
       "            })\n",
       "         });\n",
       "}\n",
       "</script>"
      ],
      "text/plain": [
       "PreparedData(topic_coordinates=            Freq  cluster  topics          x          y\n",
       "topic                                                  \n",
       "2      27.016928        1       1 -68.289711 -52.660679\n",
       "3      21.282961        1       2 -73.109741  21.399546\n",
       "4      16.239975        1       3  55.166149  29.748131\n",
       "1      14.184481        1       4  59.986187 -44.311916\n",
       "5      10.358335        1       5  -6.561772 -11.456267\n",
       "6       6.210401        1       6 -11.381937  62.604000\n",
       "0       4.706919        1       7  -1.741707 -85.516472, topic_info=     Category          Freq        Term         Total  loglift  logprob\n",
       "term                                                                   \n",
       "3     Default  57484.000000        data  57484.000000  30.0000  30.0000\n",
       "1     Default  29597.000000        busi  29597.000000  29.0000  29.0000\n",
       "18    Default  14434.000000       learn  14434.000000  28.0000  28.0000\n",
       "38    Default  23551.000000       manag  23551.000000  27.0000  27.0000\n",
       "100   Default   7651.000000      market   7651.000000  26.0000  26.0000\n",
       "44    Default  16377.000000     project  16377.000000  25.0000  25.0000\n",
       "29    Default  11636.000000     softwar  11636.000000  24.0000  24.0000\n",
       "0     Default  16632.000000      analyt  16632.000000  23.0000  23.0000\n",
       "37    Default   6335.000000      machin   6335.000000  22.0000  22.0000\n",
       "34    Default  11162.000000     product  11162.000000  21.0000  21.0000\n",
       "89    Default  10570.000000         sql  10570.000000  20.0000  20.0000\n",
       "11    Default  36552.000000     develop  36552.000000  19.0000  19.0000\n",
       "2     Default   9003.000000      custom   9003.000000  18.0000  18.0000\n",
       "32    Default   7151.000000     statist   7151.000000  17.0000  17.0000\n",
       "6     Default  14046.000000     analysi  14046.000000  16.0000  16.0000\n",
       "57    Default   9098.000000      client   9098.000000  15.0000  15.0000\n",
       "62    Default   3845.000000        sale   3845.000000  14.0000  14.0000\n",
       "10    Default   8011.000000     databas   8011.000000  13.0000  13.0000\n",
       "7     Default   5768.000000     analyst   5768.000000  12.0000  12.0000\n",
       "27    Default   9309.000000      scienc   9309.000000  11.0000  11.0000\n",
       "23    Default   7145.000000        plan   7145.000000  10.0000  10.0000\n",
       "20    Default  10242.000000       model  10242.000000   9.0000   9.0000\n",
       "46    Default  11171.000000      system  11171.000000   8.0000   8.0000\n",
       "5     Default   2777.000000   algorithm   2777.000000   7.0000   7.0000\n",
       "42    Default  14008.000000     process  14008.000000   6.0000   6.0000\n",
       "36    Default  14471.000000      design  14471.000000   5.0000   5.0000\n",
       "47    Default  20810.000000        team  20810.000000   4.0000   4.0000\n",
       "72    Default   2805.000000         etl   2805.000000   3.0000   3.0000\n",
       "43    Default  11581.000000     program  11581.000000   2.0000   2.0000\n",
       "111   Default   2686.000000    warehous   2686.000000   1.0000   1.0000\n",
       "...       ...           ...         ...           ...      ...      ...\n",
       "9      Topic7    430.050641    commerci    903.299262   2.3140  -4.2230\n",
       "148    Topic7    446.625174    competit   1178.722567   2.0857  -4.1852\n",
       "2      Topic7   3284.427055      custom   9003.538022   2.0477  -2.1899\n",
       "34     Topic7   3245.920377     product  11162.370388   1.8210  -2.2017\n",
       "64     Topic7    865.817628    strategi   3217.748766   1.7434  -3.5232\n",
       "143    Topic7     91.563411     increas    385.625540   1.6183  -5.7699\n",
       "113    Topic7     20.968504    discount    100.808771   1.4859  -7.2439\n",
       "17     Topic7    292.436451      leader   1668.302860   1.3148  -4.6086\n",
       "169    Topic7     24.635015       smart    143.864829   1.2914  -7.0827\n",
       "93     Topic7    324.799369     strateg   2318.111444   1.0908  -4.5037\n",
       "135    Topic7     37.804655         saa    286.004582   1.0326  -6.6545\n",
       "99     Topic7     82.830071     comfort    698.617554   0.9238  -5.8701\n",
       "120    Topic7     29.586663       engin    287.727000   0.7814  -6.8996\n",
       "95     Topic7     85.314772    forecast    855.665752   0.7506  -5.8405\n",
       "74     Topic7    217.865729       optim   2421.000764   0.6481  -4.9030\n",
       "106    Topic7      0.123122    peoplead      1.563090   0.5149 -12.3815\n",
       "83     Topic7      0.123125         nan      1.569082   0.5111 -12.3814\n",
       "161    Topic7     28.956758   ecosystem    376.912131   0.4899  -6.9211\n",
       "47     Topic7   1364.181907        team  20810.404443   0.3312  -3.0686\n",
       "133    Topic7    152.181785  leadership   2586.948985   0.2230  -5.2618\n",
       "139    Topic7     45.359313       dynam    811.406887   0.1720  -6.4723\n",
       "131    Topic7     81.510960       innov   1487.286529   0.1522  -5.8862\n",
       "65     Topic7    156.196646         web   3684.065137  -0.1045  -5.2358\n",
       "35     Topic7    109.838786     benefit   2515.641478  -0.0751  -5.5879\n",
       "66     Topic7    189.470883      analyz   6017.312188  -0.4020  -5.0427\n",
       "1      Topic7    341.202078        busi  29597.449273  -1.4068  -4.4544\n",
       "38     Topic7    279.104487       manag  23551.509607  -1.3792  -4.6553\n",
       "49     Topic7    102.182331       organ   3727.653410  -0.5406  -5.6601\n",
       "123    Topic7     94.731137        lead   3393.860054  -0.5225  -5.7358\n",
       "52     Topic7     89.071665       decis   3409.060715  -0.5886  -5.7974\n",
       "\n",
       "[318 rows x 6 columns], token_table=      Topic      Freq          Term\n",
       "term                               \n",
       "157       1  0.887826        achiev\n",
       "157       3  0.068390        achiev\n",
       "157       7  0.042277        achiev\n",
       "77        1  0.920358     administr\n",
       "77        2  0.023708     administr\n",
       "77        5  0.055003     administr\n",
       "98        2  0.968446          agil\n",
       "98        5  0.030984          agil\n",
       "5         6  0.999561     algorithm\n",
       "78        3  0.754457        analys\n",
       "78        4  0.244190        analys\n",
       "6         1  0.118602       analysi\n",
       "6         2  0.004271       analysi\n",
       "6         3  0.513135       analysi\n",
       "6         4  0.363921       analysi\n",
       "7         4  0.999740       analyst\n",
       "0         3  0.449962        analyt\n",
       "0         4  0.517961        analyt\n",
       "0         5  0.032046        analyt\n",
       "66        1  0.169179        analyz\n",
       "66        2  0.031409        analyz\n",
       "66        3  0.385554        analyz\n",
       "66        4  0.382397        analyz\n",
       "66        7  0.031409        analyz\n",
       "84        2  0.999261           api\n",
       "118       6  0.998351      artifici\n",
       "67        1  0.999542        assist\n",
       "8         2  0.537966            aw\n",
       "8         5  0.388997            aw\n",
       "8         6  0.073087            aw\n",
       "...     ...       ...           ...\n",
       "47        3  0.126187          team\n",
       "47        4  0.035992          team\n",
       "47        6  0.036280          team\n",
       "47        7  0.065544          team\n",
       "109       1  0.830414       technic\n",
       "109       3  0.164862       technic\n",
       "179       2  0.981760    technician\n",
       "48        1  0.452190     technolog\n",
       "48        2  0.493059     technolog\n",
       "48        5  0.014131     technolog\n",
       "48        6  0.040453     technolog\n",
       "33        6  0.998042    tensorflow\n",
       "82        1  0.949140         train\n",
       "82        6  0.050625         train\n",
       "90        1  0.484786     transform\n",
       "90        2  0.083371     transform\n",
       "90        3  0.043229     transform\n",
       "90        5  0.355098     transform\n",
       "90        7  0.032422     transform\n",
       "110       1  0.156781  troubleshoot\n",
       "110       2  0.718362  troubleshoot\n",
       "110       5  0.124271  troubleshoot\n",
       "172       1  0.984745          true\n",
       "137       1  0.419825         valid\n",
       "137       2  0.078640         valid\n",
       "137       3  0.500941         valid\n",
       "111       5  0.999392      warehous\n",
       "65        2  0.957366           web\n",
       "65        7  0.042345           web\n",
       "124       2  0.998026           xml\n",
       "\n",
       "[400 rows x 3 columns], R=30, lambda_step=0.01, plot_opts={'xlab': 'PC1', 'ylab': 'PC2'}, topic_order=[3, 4, 5, 2, 6, 7, 1])"
      ]
     },
     "execution_count": 227,
     "metadata": {},
     "output_type": "execute_result"
    }
   ],
   "source": [
    "# Visualize the topics\n",
    "import pyLDAvis\n",
    "import pyLDAvis.gensim \n",
    "pyLDAvis.enable_notebook()\n",
    "vis = pyLDAvis.gensim.prepare(lda_model, corpus, id2word, mds='tsne')\n",
    "vis\n"
   ]
  },
  {
   "cell_type": "code",
   "execution_count": 90,
   "metadata": {
    "collapsed": true
   },
   "outputs": [],
   "source": [
    "#pyLDAvis.save_html(vis, 'C:/Users/moh_e/Desktop/Nurturing Data Talent_2/Fainal/Visualize topics (Jobs).html')"
   ]
  },
  {
   "cell_type": "code",
   "execution_count": 216,
   "metadata": {
    "collapsed": true
   },
   "outputs": [],
   "source": [
    "#import pandas as pd\n",
    "\n",
    "#top_words_per_topic = []\n",
    "#for t in range(lda_model.num_topics):\n",
    " #   top_words_per_topic.extend([(t, ) + x for x in lda_model.show_topic(t, topn = 30)])\n",
    "\n",
    "#pd.DataFrame(top_words_per_topic, columns=['Topic', 'Word', 'P']).to_csv(\"C:/Users/moh_e/Desktop/top_words(jobs).csv\")"
   ]
  },
  {
   "cell_type": "markdown",
   "metadata": {},
   "source": [
    "## - Finding topics for each document"
   ]
  },
  {
   "cell_type": "code",
   "execution_count": 94,
   "metadata": {
    "collapsed": true
   },
   "outputs": [],
   "source": [
    "def format_topics_sentences(ldamodel=None, corpus=corpus, texts=data):\n",
    "    # Init output\n",
    "    sent_topics_df = pd.DataFrame()\n",
    "\n",
    "    # Get main topic in each document\n",
    "    for i, row_list in enumerate(ldamodel[corpus]):\n",
    "        row = row_list[0] if ldamodel.per_word_topics else row_list            \n",
    "        # print(row)\n",
    "        row = sorted(row, key=lambda x: (x[1]), reverse=True)\n",
    "        # Get the Dominant topic, Perc Contribution and Keywords for each document\n",
    "        for j, (topic_num, prop_topic) in enumerate(row):\n",
    "            if j == 0:  # => dominant topic\n",
    "                wp = ldamodel.show_topic(topic_num)\n",
    "                topic_keywords = \", \".join([word for word, prop in wp])\n",
    "                sent_topics_df = sent_topics_df.append(pd.Series([int(topic_num), round(prop_topic,4), topic_keywords]), ignore_index=True)\n",
    "            else:\n",
    "                break\n",
    "    sent_topics_df.columns = ['Dominant_Topic', 'Perc_Contribution', 'Topic_Keywords']\n",
    "\n",
    "    # Add original text to the end of the output\n",
    "    contents = pd.Series(texts)\n",
    "    sent_topics_df = pd.concat([sent_topics_df, contents], axis=1)\n",
    "    return(sent_topics_df)"
   ]
  },
  {
   "cell_type": "code",
   "execution_count": 96,
   "metadata": {
    "scrolled": false
   },
   "outputs": [
    {
     "data": {
      "text/html": [
       "<div>\n",
       "<style>\n",
       "    .dataframe thead tr:only-child th {\n",
       "        text-align: right;\n",
       "    }\n",
       "\n",
       "    .dataframe thead th {\n",
       "        text-align: left;\n",
       "    }\n",
       "\n",
       "    .dataframe tbody tr th {\n",
       "        vertical-align: top;\n",
       "    }\n",
       "</style>\n",
       "<table border=\"1\" class=\"dataframe\">\n",
       "  <thead>\n",
       "    <tr style=\"text-align: right;\">\n",
       "      <th></th>\n",
       "      <th>Document_No</th>\n",
       "      <th>Dominant_Topic</th>\n",
       "      <th>Topic_Perc_Contrib</th>\n",
       "      <th>Keywords</th>\n",
       "      <th>Text</th>\n",
       "    </tr>\n",
       "  </thead>\n",
       "  <tbody>\n",
       "    <tr>\n",
       "      <th>0</th>\n",
       "      <td>0</td>\n",
       "      <td>1.0</td>\n",
       "      <td>0.3169</td>\n",
       "      <td>busi, analyt, data, analyst, analysi, solut, i...</td>\n",
       "      <td>[custom, data, data, analyt, busi, lifecycl]</td>\n",
       "    </tr>\n",
       "    <tr>\n",
       "      <th>1</th>\n",
       "      <td>1</td>\n",
       "      <td>4.0</td>\n",
       "      <td>0.4197</td>\n",
       "      <td>data, analyt, analysi, statist, model, scienc,...</td>\n",
       "      <td>[leader, predict, analyt, data, scienc, data, ...</td>\n",
       "    </tr>\n",
       "    <tr>\n",
       "      <th>2</th>\n",
       "      <td>2</td>\n",
       "      <td>3.0</td>\n",
       "      <td>0.3475</td>\n",
       "      <td>develop, softwar, design, system, program, tea...</td>\n",
       "      <td>[product]</td>\n",
       "    </tr>\n",
       "    <tr>\n",
       "      <th>3</th>\n",
       "      <td>3</td>\n",
       "      <td>6.0</td>\n",
       "      <td>0.3473</td>\n",
       "      <td>learn, machin, algorithm, python, deep, produc...</td>\n",
       "      <td>[scienc, machin, learn, math, statist, process...</td>\n",
       "    </tr>\n",
       "    <tr>\n",
       "      <th>4</th>\n",
       "      <td>4</td>\n",
       "      <td>2.0</td>\n",
       "      <td>0.3869</td>\n",
       "      <td>manag, project, process, develop, team, client...</td>\n",
       "      <td>[lifecycl]</td>\n",
       "    </tr>\n",
       "    <tr>\n",
       "      <th>5</th>\n",
       "      <td>5</td>\n",
       "      <td>3.0</td>\n",
       "      <td>0.3474</td>\n",
       "      <td>develop, softwar, design, system, program, tea...</td>\n",
       "      <td>[product]</td>\n",
       "    </tr>\n",
       "    <tr>\n",
       "      <th>6</th>\n",
       "      <td>6</td>\n",
       "      <td>2.0</td>\n",
       "      <td>0.4801</td>\n",
       "      <td>manag, project, process, develop, team, client...</td>\n",
       "      <td>[organ, technolog]</td>\n",
       "    </tr>\n",
       "    <tr>\n",
       "      <th>7</th>\n",
       "      <td>7</td>\n",
       "      <td>2.0</td>\n",
       "      <td>0.4275</td>\n",
       "      <td>manag, project, process, develop, team, client...</td>\n",
       "      <td>[manag, analyt, busi, expect]</td>\n",
       "    </tr>\n",
       "    <tr>\n",
       "      <th>8</th>\n",
       "      <td>8</td>\n",
       "      <td>2.0</td>\n",
       "      <td>0.2916</td>\n",
       "      <td>manag, project, process, develop, team, client...</td>\n",
       "      <td>[data, technolog]</td>\n",
       "    </tr>\n",
       "    <tr>\n",
       "      <th>9</th>\n",
       "      <td>9</td>\n",
       "      <td>4.0</td>\n",
       "      <td>0.4208</td>\n",
       "      <td>data, analyt, analysi, statist, model, scienc,...</td>\n",
       "      <td>[data, scientist, develop, analyt]</td>\n",
       "    </tr>\n",
       "    <tr>\n",
       "      <th>10</th>\n",
       "      <td>10</td>\n",
       "      <td>3.0</td>\n",
       "      <td>0.2995</td>\n",
       "      <td>develop, softwar, design, system, program, tea...</td>\n",
       "      <td>[leader, predict, analyt, data, scienc, softwa...</td>\n",
       "    </tr>\n",
       "    <tr>\n",
       "      <th>11</th>\n",
       "      <td>11</td>\n",
       "      <td>2.0</td>\n",
       "      <td>0.4274</td>\n",
       "      <td>manag, project, process, develop, team, client...</td>\n",
       "      <td>[manag, analyt, busi, expect]</td>\n",
       "    </tr>\n",
       "    <tr>\n",
       "      <th>12</th>\n",
       "      <td>12</td>\n",
       "      <td>3.0</td>\n",
       "      <td>0.3290</td>\n",
       "      <td>develop, softwar, design, system, program, tea...</td>\n",
       "      <td>[machin, learn, statist, predict, model, analy...</td>\n",
       "    </tr>\n",
       "    <tr>\n",
       "      <th>13</th>\n",
       "      <td>13</td>\n",
       "      <td>4.0</td>\n",
       "      <td>0.6077</td>\n",
       "      <td>data, analyt, analysi, statist, model, scienc,...</td>\n",
       "      <td>[statist, model, scienc, team, model, big, dat...</td>\n",
       "    </tr>\n",
       "    <tr>\n",
       "      <th>14</th>\n",
       "      <td>14</td>\n",
       "      <td>2.0</td>\n",
       "      <td>0.4624</td>\n",
       "      <td>manag, project, process, develop, team, client...</td>\n",
       "      <td>[administr, code, scienc, evalu, administr, pr...</td>\n",
       "    </tr>\n",
       "    <tr>\n",
       "      <th>15</th>\n",
       "      <td>15</td>\n",
       "      <td>1.0</td>\n",
       "      <td>0.2531</td>\n",
       "      <td>busi, analyt, data, analyst, analysi, solut, i...</td>\n",
       "      <td>[scientist, busi]</td>\n",
       "    </tr>\n",
       "    <tr>\n",
       "      <th>16</th>\n",
       "      <td>16</td>\n",
       "      <td>2.0</td>\n",
       "      <td>0.3268</td>\n",
       "      <td>manag, project, process, develop, team, client...</td>\n",
       "      <td>[nan]</td>\n",
       "    </tr>\n",
       "    <tr>\n",
       "      <th>17</th>\n",
       "      <td>17</td>\n",
       "      <td>4.0</td>\n",
       "      <td>0.4142</td>\n",
       "      <td>data, analyt, analysi, statist, model, scienc,...</td>\n",
       "      <td>[technolog, data, predict, analyt, data, machi...</td>\n",
       "    </tr>\n",
       "    <tr>\n",
       "      <th>18</th>\n",
       "      <td>18</td>\n",
       "      <td>4.0</td>\n",
       "      <td>0.5653</td>\n",
       "      <td>data, analyt, analysi, statist, model, scienc,...</td>\n",
       "      <td>[data, scienc, team, data, scienc, analyt, pro...</td>\n",
       "    </tr>\n",
       "    <tr>\n",
       "      <th>19</th>\n",
       "      <td>19</td>\n",
       "      <td>6.0</td>\n",
       "      <td>0.4348</td>\n",
       "      <td>learn, machin, algorithm, python, deep, produc...</td>\n",
       "      <td>[scientist, machin, learn, deep, learn, data, ...</td>\n",
       "    </tr>\n",
       "  </tbody>\n",
       "</table>\n",
       "</div>"
      ],
      "text/plain": [
       "    Document_No  Dominant_Topic  Topic_Perc_Contrib  \\\n",
       "0             0             1.0              0.3169   \n",
       "1             1             4.0              0.4197   \n",
       "2             2             3.0              0.3475   \n",
       "3             3             6.0              0.3473   \n",
       "4             4             2.0              0.3869   \n",
       "5             5             3.0              0.3474   \n",
       "6             6             2.0              0.4801   \n",
       "7             7             2.0              0.4275   \n",
       "8             8             2.0              0.2916   \n",
       "9             9             4.0              0.4208   \n",
       "10           10             3.0              0.2995   \n",
       "11           11             2.0              0.4274   \n",
       "12           12             3.0              0.3290   \n",
       "13           13             4.0              0.6077   \n",
       "14           14             2.0              0.4624   \n",
       "15           15             1.0              0.2531   \n",
       "16           16             2.0              0.3268   \n",
       "17           17             4.0              0.4142   \n",
       "18           18             4.0              0.5653   \n",
       "19           19             6.0              0.4348   \n",
       "\n",
       "                                             Keywords  \\\n",
       "0   busi, analyt, data, analyst, analysi, solut, i...   \n",
       "1   data, analyt, analysi, statist, model, scienc,...   \n",
       "2   develop, softwar, design, system, program, tea...   \n",
       "3   learn, machin, algorithm, python, deep, produc...   \n",
       "4   manag, project, process, develop, team, client...   \n",
       "5   develop, softwar, design, system, program, tea...   \n",
       "6   manag, project, process, develop, team, client...   \n",
       "7   manag, project, process, develop, team, client...   \n",
       "8   manag, project, process, develop, team, client...   \n",
       "9   data, analyt, analysi, statist, model, scienc,...   \n",
       "10  develop, softwar, design, system, program, tea...   \n",
       "11  manag, project, process, develop, team, client...   \n",
       "12  develop, softwar, design, system, program, tea...   \n",
       "13  data, analyt, analysi, statist, model, scienc,...   \n",
       "14  manag, project, process, develop, team, client...   \n",
       "15  busi, analyt, data, analyst, analysi, solut, i...   \n",
       "16  manag, project, process, develop, team, client...   \n",
       "17  data, analyt, analysi, statist, model, scienc,...   \n",
       "18  data, analyt, analysi, statist, model, scienc,...   \n",
       "19  learn, machin, algorithm, python, deep, produc...   \n",
       "\n",
       "                                                 Text  \n",
       "0        [custom, data, data, analyt, busi, lifecycl]  \n",
       "1   [leader, predict, analyt, data, scienc, data, ...  \n",
       "2                                           [product]  \n",
       "3   [scienc, machin, learn, math, statist, process...  \n",
       "4                                          [lifecycl]  \n",
       "5                                           [product]  \n",
       "6                                  [organ, technolog]  \n",
       "7                       [manag, analyt, busi, expect]  \n",
       "8                                   [data, technolog]  \n",
       "9                  [data, scientist, develop, analyt]  \n",
       "10  [leader, predict, analyt, data, scienc, softwa...  \n",
       "11                      [manag, analyt, busi, expect]  \n",
       "12  [machin, learn, statist, predict, model, analy...  \n",
       "13  [statist, model, scienc, team, model, big, dat...  \n",
       "14  [administr, code, scienc, evalu, administr, pr...  \n",
       "15                                  [scientist, busi]  \n",
       "16                                              [nan]  \n",
       "17  [technolog, data, predict, analyt, data, machi...  \n",
       "18  [data, scienc, team, data, scienc, analyt, pro...  \n",
       "19  [scientist, machin, learn, deep, learn, data, ...  "
      ]
     },
     "execution_count": 96,
     "metadata": {},
     "output_type": "execute_result"
    }
   ],
   "source": [
    "df_topic_sents_keywords = format_topics_sentences(ldamodel=lda_model, corpus=corpus, texts=processed_data)\n",
    "\n",
    "# Format\n",
    "df_dominant_topic = df_topic_sents_keywords.reset_index()\n",
    "df_dominant_topic.columns = ['Document_No', 'Dominant_Topic', 'Topic_Perc_Contrib', 'Keywords', 'Text']\n",
    "df_dominant_topic.head(20)"
   ]
  },
  {
   "cell_type": "code",
   "execution_count": 97,
   "metadata": {
    "collapsed": true
   },
   "outputs": [],
   "source": [
    "#df_dominant_topic.to_csv('C:/Users/moh_e/Desktop/JobOffers_dominant_8topics.csv')"
   ]
  },
  {
   "cell_type": "markdown",
   "metadata": {},
   "source": [
    "## - The most representative document for each topic"
   ]
  },
  {
   "cell_type": "code",
   "execution_count": 98,
   "metadata": {
    "scrolled": false
   },
   "outputs": [
    {
     "data": {
      "text/html": [
       "<div>\n",
       "<style>\n",
       "    .dataframe thead tr:only-child th {\n",
       "        text-align: right;\n",
       "    }\n",
       "\n",
       "    .dataframe thead th {\n",
       "        text-align: left;\n",
       "    }\n",
       "\n",
       "    .dataframe tbody tr th {\n",
       "        vertical-align: top;\n",
       "    }\n",
       "</style>\n",
       "<table border=\"1\" class=\"dataframe\">\n",
       "  <thead>\n",
       "    <tr style=\"text-align: right;\">\n",
       "      <th></th>\n",
       "      <th>Topic_Num</th>\n",
       "      <th>Topic_Perc_Contrib</th>\n",
       "      <th>Keywords</th>\n",
       "      <th>Representative Text</th>\n",
       "    </tr>\n",
       "  </thead>\n",
       "  <tbody>\n",
       "    <tr>\n",
       "      <th>0</th>\n",
       "      <td>0.0</td>\n",
       "      <td>0.7883</td>\n",
       "      <td>market, sale, custom, product, salesforc, team, digit, price, strategi, consum</td>\n",
       "      <td>[market, design, market, market, organ, market, big, market, busi, market, dynam, market, market...</td>\n",
       "    </tr>\n",
       "    <tr>\n",
       "      <th>1</th>\n",
       "      <td>1.0</td>\n",
       "      <td>0.7194</td>\n",
       "      <td>busi, analyt, data, analyst, analysi, solut, intellig, develop, sql, analyz</td>\n",
       "      <td>[client, intellig, analyst, intellig, analyst, custom, intellig, analyst, analysi, intellig, dat...</td>\n",
       "    </tr>\n",
       "    <tr>\n",
       "      <th>2</th>\n",
       "      <td>2.0</td>\n",
       "      <td>0.9627</td>\n",
       "      <td>manag, project, process, develop, team, client, plan, busi, assist, solut</td>\n",
       "      <td>[project, develop, project, assist, distribut, project, project, busi, project, process, project...</td>\n",
       "    </tr>\n",
       "    <tr>\n",
       "      <th>3</th>\n",
       "      <td>3.0</td>\n",
       "      <td>0.9207</td>\n",
       "      <td>develop, softwar, design, system, program, team, solut, product, integr, code</td>\n",
       "      <td>[develop, technolog, develop, technolog, problem, team, product, integr, integr, product, develo...</td>\n",
       "    </tr>\n",
       "    <tr>\n",
       "      <th>4</th>\n",
       "      <td>4.0</td>\n",
       "      <td>0.7815</td>\n",
       "      <td>data, analyt, analysi, statist, model, scienc, program, team, analyz, develop</td>\n",
       "      <td>[scienc, data, predict, data, project, develop, statist, data, decis, benefit, dataset, develop,...</td>\n",
       "    </tr>\n",
       "    <tr>\n",
       "      <th>5</th>\n",
       "      <td>5.0</td>\n",
       "      <td>0.7825</td>\n",
       "      <td>data, sql, databas, etl, warehous, big, oracl, model, design, integr</td>\n",
       "      <td>[data, client, data, data, data, warehous, design, data, expertis, design, expertis, big, data, ...</td>\n",
       "    </tr>\n",
       "    <tr>\n",
       "      <th>6</th>\n",
       "      <td>6.0</td>\n",
       "      <td>0.7312</td>\n",
       "      <td>learn, machin, algorithm, python, deep, product, problem, scienc, model, artifici</td>\n",
       "      <td>[salesforc, deep, learn, machin, learn, process, learn, extract, learn, machin, classif, team, s...</td>\n",
       "    </tr>\n",
       "  </tbody>\n",
       "</table>\n",
       "</div>"
      ],
      "text/plain": [
       "   Topic_Num  Topic_Perc_Contrib  \\\n",
       "0        0.0              0.7883   \n",
       "1        1.0              0.7194   \n",
       "2        2.0              0.9627   \n",
       "3        3.0              0.9207   \n",
       "4        4.0              0.7815   \n",
       "5        5.0              0.7825   \n",
       "6        6.0              0.7312   \n",
       "\n",
       "                                                                            Keywords  \\\n",
       "0     market, sale, custom, product, salesforc, team, digit, price, strategi, consum   \n",
       "1        busi, analyt, data, analyst, analysi, solut, intellig, develop, sql, analyz   \n",
       "2          manag, project, process, develop, team, client, plan, busi, assist, solut   \n",
       "3      develop, softwar, design, system, program, team, solut, product, integr, code   \n",
       "4      data, analyt, analysi, statist, model, scienc, program, team, analyz, develop   \n",
       "5               data, sql, databas, etl, warehous, big, oracl, model, design, integr   \n",
       "6  learn, machin, algorithm, python, deep, product, problem, scienc, model, artifici   \n",
       "\n",
       "                                                                                   Representative Text  \n",
       "0  [market, design, market, market, organ, market, big, market, busi, market, dynam, market, market...  \n",
       "1  [client, intellig, analyst, intellig, analyst, custom, intellig, analyst, analysi, intellig, dat...  \n",
       "2  [project, develop, project, assist, distribut, project, project, busi, project, process, project...  \n",
       "3  [develop, technolog, develop, technolog, problem, team, product, integr, integr, product, develo...  \n",
       "4  [scienc, data, predict, data, project, develop, statist, data, decis, benefit, dataset, develop,...  \n",
       "5  [data, client, data, data, data, warehous, design, data, expertis, design, expertis, big, data, ...  \n",
       "6  [salesforc, deep, learn, machin, learn, process, learn, extract, learn, machin, classif, team, s...  "
      ]
     },
     "execution_count": 98,
     "metadata": {},
     "output_type": "execute_result"
    }
   ],
   "source": [
    "# Display setting to show more characters in column\n",
    "pd.options.display.max_colwidth = 100\n",
    "\n",
    "sent_topics_sorteddf_mallet = pd.DataFrame()\n",
    "sent_topics_outdf_grpd = df_topic_sents_keywords.groupby('Dominant_Topic')\n",
    "\n",
    "for i, grp in sent_topics_outdf_grpd:\n",
    "    sent_topics_sorteddf_mallet = pd.concat([sent_topics_sorteddf_mallet, \n",
    "                                             grp.sort_values(['Perc_Contribution'], ascending=False).head(1)], \n",
    "                                            axis=0)\n",
    "\n",
    "# Reset Index    \n",
    "sent_topics_sorteddf_mallet.reset_index(drop=True, inplace=True)\n",
    "\n",
    "# Format\n",
    "sent_topics_sorteddf_mallet.columns = ['Topic_Num', \"Topic_Perc_Contrib\", \"Keywords\", \"Representative Text\"]\n",
    "\n",
    "# Show\n",
    "sent_topics_sorteddf_mallet.head(10)"
   ]
  },
  {
   "cell_type": "code",
   "execution_count": null,
   "metadata": {
    "collapsed": true
   },
   "outputs": [],
   "source": []
  }
 ],
 "metadata": {
  "kernelspec": {
   "display_name": "Python 3",
   "language": "python",
   "name": "python3"
  }
 },
 "nbformat": 4,
 "nbformat_minor": 2
}
